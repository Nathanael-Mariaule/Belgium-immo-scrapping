{
 "cells": [
  {
   "cell_type": "markdown",
   "metadata": {},
   "source": [
    "### Today, we will scrape Producthunt with Selenium\n",
    "\n",
    "Selenium is a tool initially created to automate tests on websites. It is therefore very useful when information is accessible by clicking on links. A button for example is an element on which it is very difficult to obtain the link. Beautifull soup then becomes limited.\n",
    "In this case, use Selenium"
   ]
  },
  {
   "cell_type": "markdown",
   "metadata": {},
   "source": [
    "### Load libraries"
   ]
  },
  {
   "cell_type": "code",
   "execution_count": 1,
   "metadata": {},
   "outputs": [],
   "source": [
    "import bs4\n",
    "import requests\n",
    "from bs4 import BeautifulSoup\n",
    "import numpy as np\n",
    "import pandas as pd\n",
    "import json\n",
    "import re\n",
    "import lxml.html\n",
    "import time\n",
    "import random\n",
    "from random import randint\n",
    "import logging\n",
    "import collections\n",
    "from time import gmtime, strftime\n",
    "\n",
    "import re\n",
    "from tabulate import tabulate\n",
    "import time\n",
    "import os\n",
    "date=strftime(\"%Y-%m-%d\")\n"
   ]
  },
  {
   "cell_type": "markdown",
   "metadata": {},
   "source": [
    "### Install Selenium according to this manual\n",
    "\n",
    "https://selenium-python.readthedocs.io/installation.html#downloading-python-bindings-for-selenium/bin\n",
    "\n",
    "nb: Linux: put your geckodriver (the downloaded extension) in the equivalent path at home to /home/YOURNAME/.local/bin"
   ]
  },
  {
   "cell_type": "markdown",
   "metadata": {},
   "source": [
    "We will simulate a search on the official Phython website"
   ]
  },
  {
   "cell_type": "code",
   "execution_count": 3,
   "metadata": {},
   "outputs": [
    {
     "output_type": "error",
     "ename": "WebDriverException",
     "evalue": "Message: chrome not reachable\n  (Session info: chrome=90.0.4430.93)\n",
     "traceback": [
      "\u001b[0;31m---------------------------------------------------------------------------\u001b[0m",
      "\u001b[0;31mWebDriverException\u001b[0m                        Traceback (most recent call last)",
      "\u001b[0;32m<ipython-input-3-371eaf27a483>\u001b[0m in \u001b[0;36m<module>\u001b[0;34m\u001b[0m\n\u001b[1;32m     31\u001b[0m \u001b[0;31m#After submitting the page, you should get the result if there is one. To ensure that certain results\u001b[0m\u001b[0;34m\u001b[0m\u001b[0;34m\u001b[0m\u001b[0;34m\u001b[0m\u001b[0m\n\u001b[1;32m     32\u001b[0m \u001b[0;31m# are found, make an assertion:\u001b[0m\u001b[0;34m\u001b[0m\u001b[0;34m\u001b[0m\u001b[0;34m\u001b[0m\u001b[0m\n\u001b[0;32m---> 33\u001b[0;31m \u001b[0;32massert\u001b[0m \u001b[0;34m\"No results found.\"\u001b[0m \u001b[0;32mnot\u001b[0m \u001b[0;32min\u001b[0m \u001b[0mdriver\u001b[0m\u001b[0;34m.\u001b[0m\u001b[0mpage_source\u001b[0m\u001b[0;34m\u001b[0m\u001b[0;34m\u001b[0m\u001b[0m\n\u001b[0m\u001b[1;32m     34\u001b[0m \u001b[0;34m\u001b[0m\u001b[0m\n\u001b[1;32m     35\u001b[0m \u001b[0;34m\u001b[0m\u001b[0m\n",
      "\u001b[0;32m~/anaconda3/lib/python3.8/site-packages/selenium/webdriver/remote/webdriver.py\u001b[0m in \u001b[0;36mpage_source\u001b[0;34m(self)\u001b[0m\n\u001b[1;32m    677\u001b[0m             \u001b[0mdriver\u001b[0m\u001b[0;34m.\u001b[0m\u001b[0mpage_source\u001b[0m\u001b[0;34m\u001b[0m\u001b[0;34m\u001b[0m\u001b[0m\n\u001b[1;32m    678\u001b[0m         \"\"\"\n\u001b[0;32m--> 679\u001b[0;31m         \u001b[0;32mreturn\u001b[0m \u001b[0mself\u001b[0m\u001b[0;34m.\u001b[0m\u001b[0mexecute\u001b[0m\u001b[0;34m(\u001b[0m\u001b[0mCommand\u001b[0m\u001b[0;34m.\u001b[0m\u001b[0mGET_PAGE_SOURCE\u001b[0m\u001b[0;34m)\u001b[0m\u001b[0;34m[\u001b[0m\u001b[0;34m'value'\u001b[0m\u001b[0;34m]\u001b[0m\u001b[0;34m\u001b[0m\u001b[0;34m\u001b[0m\u001b[0m\n\u001b[0m\u001b[1;32m    680\u001b[0m \u001b[0;34m\u001b[0m\u001b[0m\n\u001b[1;32m    681\u001b[0m     \u001b[0;32mdef\u001b[0m \u001b[0mclose\u001b[0m\u001b[0;34m(\u001b[0m\u001b[0mself\u001b[0m\u001b[0;34m)\u001b[0m\u001b[0;34m:\u001b[0m\u001b[0;34m\u001b[0m\u001b[0;34m\u001b[0m\u001b[0m\n",
      "\u001b[0;32m~/anaconda3/lib/python3.8/site-packages/selenium/webdriver/remote/webdriver.py\u001b[0m in \u001b[0;36mexecute\u001b[0;34m(self, driver_command, params)\u001b[0m\n\u001b[1;32m    319\u001b[0m         \u001b[0mresponse\u001b[0m \u001b[0;34m=\u001b[0m \u001b[0mself\u001b[0m\u001b[0;34m.\u001b[0m\u001b[0mcommand_executor\u001b[0m\u001b[0;34m.\u001b[0m\u001b[0mexecute\u001b[0m\u001b[0;34m(\u001b[0m\u001b[0mdriver_command\u001b[0m\u001b[0;34m,\u001b[0m \u001b[0mparams\u001b[0m\u001b[0;34m)\u001b[0m\u001b[0;34m\u001b[0m\u001b[0;34m\u001b[0m\u001b[0m\n\u001b[1;32m    320\u001b[0m         \u001b[0;32mif\u001b[0m \u001b[0mresponse\u001b[0m\u001b[0;34m:\u001b[0m\u001b[0;34m\u001b[0m\u001b[0;34m\u001b[0m\u001b[0m\n\u001b[0;32m--> 321\u001b[0;31m             \u001b[0mself\u001b[0m\u001b[0;34m.\u001b[0m\u001b[0merror_handler\u001b[0m\u001b[0;34m.\u001b[0m\u001b[0mcheck_response\u001b[0m\u001b[0;34m(\u001b[0m\u001b[0mresponse\u001b[0m\u001b[0;34m)\u001b[0m\u001b[0;34m\u001b[0m\u001b[0;34m\u001b[0m\u001b[0m\n\u001b[0m\u001b[1;32m    322\u001b[0m             response['value'] = self._unwrap_value(\n\u001b[1;32m    323\u001b[0m                 response.get('value', None))\n",
      "\u001b[0;32m~/anaconda3/lib/python3.8/site-packages/selenium/webdriver/remote/errorhandler.py\u001b[0m in \u001b[0;36mcheck_response\u001b[0;34m(self, response)\u001b[0m\n\u001b[1;32m    240\u001b[0m                 \u001b[0malert_text\u001b[0m \u001b[0;34m=\u001b[0m \u001b[0mvalue\u001b[0m\u001b[0;34m[\u001b[0m\u001b[0;34m'alert'\u001b[0m\u001b[0;34m]\u001b[0m\u001b[0;34m.\u001b[0m\u001b[0mget\u001b[0m\u001b[0;34m(\u001b[0m\u001b[0;34m'text'\u001b[0m\u001b[0;34m)\u001b[0m\u001b[0;34m\u001b[0m\u001b[0;34m\u001b[0m\u001b[0m\n\u001b[1;32m    241\u001b[0m             \u001b[0;32mraise\u001b[0m \u001b[0mexception_class\u001b[0m\u001b[0;34m(\u001b[0m\u001b[0mmessage\u001b[0m\u001b[0;34m,\u001b[0m \u001b[0mscreen\u001b[0m\u001b[0;34m,\u001b[0m \u001b[0mstacktrace\u001b[0m\u001b[0;34m,\u001b[0m \u001b[0malert_text\u001b[0m\u001b[0;34m)\u001b[0m\u001b[0;34m\u001b[0m\u001b[0;34m\u001b[0m\u001b[0m\n\u001b[0;32m--> 242\u001b[0;31m         \u001b[0;32mraise\u001b[0m \u001b[0mexception_class\u001b[0m\u001b[0;34m(\u001b[0m\u001b[0mmessage\u001b[0m\u001b[0;34m,\u001b[0m \u001b[0mscreen\u001b[0m\u001b[0;34m,\u001b[0m \u001b[0mstacktrace\u001b[0m\u001b[0;34m)\u001b[0m\u001b[0;34m\u001b[0m\u001b[0;34m\u001b[0m\u001b[0m\n\u001b[0m\u001b[1;32m    243\u001b[0m \u001b[0;34m\u001b[0m\u001b[0m\n\u001b[1;32m    244\u001b[0m     \u001b[0;32mdef\u001b[0m \u001b[0m_value_or_default\u001b[0m\u001b[0;34m(\u001b[0m\u001b[0mself\u001b[0m\u001b[0;34m,\u001b[0m \u001b[0mobj\u001b[0m\u001b[0;34m,\u001b[0m \u001b[0mkey\u001b[0m\u001b[0;34m,\u001b[0m \u001b[0mdefault\u001b[0m\u001b[0;34m)\u001b[0m\u001b[0;34m:\u001b[0m\u001b[0;34m\u001b[0m\u001b[0;34m\u001b[0m\u001b[0m\n",
      "\u001b[0;31mWebDriverException\u001b[0m: Message: chrome not reachable\n  (Session info: chrome=90.0.4430.93)\n"
     ]
    }
   ],
   "source": [
    "import selenium\n",
    "\n",
    "# The selenium.webdriver module provides all the implementations of WebDriver. WebDriver implementations \n",
    "# Currently supported are Firefox, Chrome, IE and Remote. The Keys class provides keys in \n",
    "# the keyboard such as RETURN, F1, ALT etc.\n",
    "from selenium import webdriver\n",
    "from selenium.webdriver.common.keys import Keys\n",
    "# Then, the instance of Firefox WebDriver is created.\n",
    "driver = webdriver.Chrome()\n",
    "# The driver.get method will lead to a page given by the URL. WebDriver will wait until the page is fully completed \n",
    "# loaded (i.e. the \"onload\" event has been triggered) before returning the control to your script. \n",
    "# It should be noted that if your page uses a lot of AJAX when loading, WebDriver may not know \n",
    "# when it was fully charged:\n",
    "driver.get(\"http://www.python.org\")\n",
    "# The following line is a statement confirming that the title contains the word \"Python\"\n",
    "assert \"Python\" in driver.title\n",
    "# WebDriver offers several methods to search for items using one of the methods \n",
    "# find_element_by_by_ * . For example, the input text element can be located by its name attribute by \n",
    "# using the find_element_by_name method \n",
    "elem = driver.find_element_by_name(\"q\")\n",
    "# Then we send keys. This is similar to entering keys using your keyboard. \n",
    "# Special keys can be sent using the imported selenium.webdriver.common.keys Keys class. \n",
    "# For security reasons, we will delete any pre-filled text in the input field \n",
    "# (for example, \"Search\") so that it does not affect our search results:\n",
    "\n",
    "\n",
    "elem.clear()\n",
    "elem.send_keys(\"pycon\")\n",
    "elem.send_keys(Keys.RETURN)\n",
    "time.sleep(5)\n",
    "#After submitting the page, you should get the result if there is one. To ensure that certain results \n",
    "# are found, make an assertion:\n",
    "assert \"No results found.\" not in driver.page_source\n",
    "\n",
    "\n",
    "driver.close()"
   ]
  },
  {
   "cell_type": "markdown",
   "metadata": {},
   "source": [
    "#### Open the source code of this page (HTML) and check that the search area (field) is called \"q\".\n",
    "\n",
    "input id=\"id-search-field\" name=\"q\" type=\"search\" role=\"textbox\" class=\"search-field placeholder\" placeholder=\"Search\" value=\"\" tabindex=\"1\""
   ]
  },
  {
   "cell_type": "markdown",
   "metadata": {},
   "source": [
    "### Getting a phone number from an ad in the right place"
   ]
  },
  {
   "cell_type": "code",
   "execution_count": 5,
   "metadata": {},
   "outputs": [
    {
     "output_type": "stream",
     "name": "stdout",
     "text": [
      "ready\n"
     ]
    },
    {
     "output_type": "error",
     "ename": "WebDriverException",
     "evalue": "Message: chrome not reachable\n  (Session info: chrome=90.0.4430.93)\n",
     "traceback": [
      "\u001b[0;31m---------------------------------------------------------------------------\u001b[0m",
      "\u001b[0;31mWebDriverException\u001b[0m                        Traceback (most recent call last)",
      "\u001b[0;32m<ipython-input-5-b7c83ebb30f1>\u001b[0m in \u001b[0;36m<module>\u001b[0;34m\u001b[0m\n\u001b[1;32m     12\u001b[0m \u001b[0mdriver\u001b[0m\u001b[0;34m.\u001b[0m\u001b[0mget\u001b[0m\u001b[0;34m(\u001b[0m\u001b[0murl\u001b[0m\u001b[0;34m)\u001b[0m\u001b[0;34m\u001b[0m\u001b[0;34m\u001b[0m\u001b[0m\n\u001b[1;32m     13\u001b[0m \u001b[0mtime\u001b[0m\u001b[0;34m.\u001b[0m\u001b[0msleep\u001b[0m\u001b[0;34m(\u001b[0m\u001b[0;36m15\u001b[0m\u001b[0;34m)\u001b[0m \u001b[0;31m##there is some captcha to fill, I leave some time to complete them manually\u001b[0m\u001b[0;34m\u001b[0m\u001b[0;34m\u001b[0m\u001b[0m\n\u001b[0;32m---> 14\u001b[0;31m \u001b[0melem\u001b[0m \u001b[0;34m=\u001b[0m \u001b[0mdriver\u001b[0m\u001b[0;34m.\u001b[0m\u001b[0mfind_element_by_xpath\u001b[0m\u001b[0;34m(\u001b[0m\u001b[0;34m\"//button[@title='voir le numéro']\"\u001b[0m\u001b[0;34m)\u001b[0m\u001b[0;34m\u001b[0m\u001b[0;34m\u001b[0m\u001b[0m\n\u001b[0m\u001b[1;32m     15\u001b[0m \u001b[0mtime\u001b[0m\u001b[0;34m.\u001b[0m\u001b[0msleep\u001b[0m\u001b[0;34m(\u001b[0m\u001b[0;36m5\u001b[0m\u001b[0;34m)\u001b[0m\u001b[0;34m\u001b[0m\u001b[0;34m\u001b[0m\u001b[0m\n\u001b[1;32m     16\u001b[0m \u001b[0melem\u001b[0m\u001b[0;34m.\u001b[0m\u001b[0mclick\u001b[0m\u001b[0;34m(\u001b[0m\u001b[0;34m)\u001b[0m\u001b[0;34m\u001b[0m\u001b[0;34m\u001b[0m\u001b[0m\n",
      "\u001b[0;32m~/anaconda3/lib/python3.8/site-packages/selenium/webdriver/remote/webdriver.py\u001b[0m in \u001b[0;36mfind_element_by_xpath\u001b[0;34m(self, xpath)\u001b[0m\n\u001b[1;32m    392\u001b[0m             \u001b[0melement\u001b[0m \u001b[0;34m=\u001b[0m \u001b[0mdriver\u001b[0m\u001b[0;34m.\u001b[0m\u001b[0mfind_element_by_xpath\u001b[0m\u001b[0;34m(\u001b[0m\u001b[0;34m'//div/td[1]'\u001b[0m\u001b[0;34m)\u001b[0m\u001b[0;34m\u001b[0m\u001b[0;34m\u001b[0m\u001b[0m\n\u001b[1;32m    393\u001b[0m         \"\"\"\n\u001b[0;32m--> 394\u001b[0;31m         \u001b[0;32mreturn\u001b[0m \u001b[0mself\u001b[0m\u001b[0;34m.\u001b[0m\u001b[0mfind_element\u001b[0m\u001b[0;34m(\u001b[0m\u001b[0mby\u001b[0m\u001b[0;34m=\u001b[0m\u001b[0mBy\u001b[0m\u001b[0;34m.\u001b[0m\u001b[0mXPATH\u001b[0m\u001b[0;34m,\u001b[0m \u001b[0mvalue\u001b[0m\u001b[0;34m=\u001b[0m\u001b[0mxpath\u001b[0m\u001b[0;34m)\u001b[0m\u001b[0;34m\u001b[0m\u001b[0;34m\u001b[0m\u001b[0m\n\u001b[0m\u001b[1;32m    395\u001b[0m \u001b[0;34m\u001b[0m\u001b[0m\n\u001b[1;32m    396\u001b[0m     \u001b[0;32mdef\u001b[0m \u001b[0mfind_elements_by_xpath\u001b[0m\u001b[0;34m(\u001b[0m\u001b[0mself\u001b[0m\u001b[0;34m,\u001b[0m \u001b[0mxpath\u001b[0m\u001b[0;34m)\u001b[0m\u001b[0;34m:\u001b[0m\u001b[0;34m\u001b[0m\u001b[0;34m\u001b[0m\u001b[0m\n",
      "\u001b[0;32m~/anaconda3/lib/python3.8/site-packages/selenium/webdriver/remote/webdriver.py\u001b[0m in \u001b[0;36mfind_element\u001b[0;34m(self, by, value)\u001b[0m\n\u001b[1;32m    974\u001b[0m                 \u001b[0mby\u001b[0m \u001b[0;34m=\u001b[0m \u001b[0mBy\u001b[0m\u001b[0;34m.\u001b[0m\u001b[0mCSS_SELECTOR\u001b[0m\u001b[0;34m\u001b[0m\u001b[0;34m\u001b[0m\u001b[0m\n\u001b[1;32m    975\u001b[0m                 \u001b[0mvalue\u001b[0m \u001b[0;34m=\u001b[0m \u001b[0;34m'[name=\"%s\"]'\u001b[0m \u001b[0;34m%\u001b[0m \u001b[0mvalue\u001b[0m\u001b[0;34m\u001b[0m\u001b[0;34m\u001b[0m\u001b[0m\n\u001b[0;32m--> 976\u001b[0;31m         return self.execute(Command.FIND_ELEMENT, {\n\u001b[0m\u001b[1;32m    977\u001b[0m             \u001b[0;34m'using'\u001b[0m\u001b[0;34m:\u001b[0m \u001b[0mby\u001b[0m\u001b[0;34m,\u001b[0m\u001b[0;34m\u001b[0m\u001b[0;34m\u001b[0m\u001b[0m\n\u001b[1;32m    978\u001b[0m             'value': value})['value']\n",
      "\u001b[0;32m~/anaconda3/lib/python3.8/site-packages/selenium/webdriver/remote/webdriver.py\u001b[0m in \u001b[0;36mexecute\u001b[0;34m(self, driver_command, params)\u001b[0m\n\u001b[1;32m    319\u001b[0m         \u001b[0mresponse\u001b[0m \u001b[0;34m=\u001b[0m \u001b[0mself\u001b[0m\u001b[0;34m.\u001b[0m\u001b[0mcommand_executor\u001b[0m\u001b[0;34m.\u001b[0m\u001b[0mexecute\u001b[0m\u001b[0;34m(\u001b[0m\u001b[0mdriver_command\u001b[0m\u001b[0;34m,\u001b[0m \u001b[0mparams\u001b[0m\u001b[0;34m)\u001b[0m\u001b[0;34m\u001b[0m\u001b[0;34m\u001b[0m\u001b[0m\n\u001b[1;32m    320\u001b[0m         \u001b[0;32mif\u001b[0m \u001b[0mresponse\u001b[0m\u001b[0;34m:\u001b[0m\u001b[0;34m\u001b[0m\u001b[0;34m\u001b[0m\u001b[0m\n\u001b[0;32m--> 321\u001b[0;31m             \u001b[0mself\u001b[0m\u001b[0;34m.\u001b[0m\u001b[0merror_handler\u001b[0m\u001b[0;34m.\u001b[0m\u001b[0mcheck_response\u001b[0m\u001b[0;34m(\u001b[0m\u001b[0mresponse\u001b[0m\u001b[0;34m)\u001b[0m\u001b[0;34m\u001b[0m\u001b[0;34m\u001b[0m\u001b[0m\n\u001b[0m\u001b[1;32m    322\u001b[0m             response['value'] = self._unwrap_value(\n\u001b[1;32m    323\u001b[0m                 response.get('value', None))\n",
      "\u001b[0;32m~/anaconda3/lib/python3.8/site-packages/selenium/webdriver/remote/errorhandler.py\u001b[0m in \u001b[0;36mcheck_response\u001b[0;34m(self, response)\u001b[0m\n\u001b[1;32m    240\u001b[0m                 \u001b[0malert_text\u001b[0m \u001b[0;34m=\u001b[0m \u001b[0mvalue\u001b[0m\u001b[0;34m[\u001b[0m\u001b[0;34m'alert'\u001b[0m\u001b[0;34m]\u001b[0m\u001b[0;34m.\u001b[0m\u001b[0mget\u001b[0m\u001b[0;34m(\u001b[0m\u001b[0;34m'text'\u001b[0m\u001b[0;34m)\u001b[0m\u001b[0;34m\u001b[0m\u001b[0;34m\u001b[0m\u001b[0m\n\u001b[1;32m    241\u001b[0m             \u001b[0;32mraise\u001b[0m \u001b[0mexception_class\u001b[0m\u001b[0;34m(\u001b[0m\u001b[0mmessage\u001b[0m\u001b[0;34m,\u001b[0m \u001b[0mscreen\u001b[0m\u001b[0;34m,\u001b[0m \u001b[0mstacktrace\u001b[0m\u001b[0;34m,\u001b[0m \u001b[0malert_text\u001b[0m\u001b[0;34m)\u001b[0m\u001b[0;34m\u001b[0m\u001b[0;34m\u001b[0m\u001b[0m\n\u001b[0;32m--> 242\u001b[0;31m         \u001b[0;32mraise\u001b[0m \u001b[0mexception_class\u001b[0m\u001b[0;34m(\u001b[0m\u001b[0mmessage\u001b[0m\u001b[0;34m,\u001b[0m \u001b[0mscreen\u001b[0m\u001b[0;34m,\u001b[0m \u001b[0mstacktrace\u001b[0m\u001b[0;34m)\u001b[0m\u001b[0;34m\u001b[0m\u001b[0;34m\u001b[0m\u001b[0m\n\u001b[0m\u001b[1;32m    243\u001b[0m \u001b[0;34m\u001b[0m\u001b[0m\n\u001b[1;32m    244\u001b[0m     \u001b[0;32mdef\u001b[0m \u001b[0m_value_or_default\u001b[0m\u001b[0;34m(\u001b[0m\u001b[0mself\u001b[0m\u001b[0;34m,\u001b[0m \u001b[0mobj\u001b[0m\u001b[0;34m,\u001b[0m \u001b[0mkey\u001b[0m\u001b[0;34m,\u001b[0m \u001b[0mdefault\u001b[0m\u001b[0;34m)\u001b[0m\u001b[0;34m:\u001b[0m\u001b[0;34m\u001b[0m\u001b[0;34m\u001b[0m\u001b[0m\n",
      "\u001b[0;31mWebDriverException\u001b[0m: Message: chrome not reachable\n  (Session info: chrome=90.0.4430.93)\n"
     ]
    }
   ],
   "source": [
    "from selenium import webdriver\n",
    "from selenium.webdriver.support.ui import WebDriverWait\n",
    "from selenium.webdriver.support import expected_conditions as EC\n",
    "from selenium.common.exceptions import TimeoutException\n",
    "from selenium.webdriver.common.by import By\n",
    "\n",
    "\n",
    "url='https://www.leboncoin.fr/livres/1963802714.htm?ac=1481102916'\n",
    "print('ready')\n",
    "driver = webdriver.Chrome()\n",
    "driver.implicitly_wait(30)\n",
    "driver.get(url)\n",
    "time.sleep(15) ##there is some captcha to fill, I leave some time to complete them manually\n",
    "elem = driver.find_element_by_xpath(\"//button[@title='voir le numéro']\")\n",
    "time.sleep(5)\n",
    "elem.click()\n",
    "time.sleep(5)\n",
    "soup=BeautifulSoup(driver.page_source)\n",
    "driver.close()\n",
    "print(soup.find('a', attrs={'class':'_2qvLx _3osY2 _35pAC _1Vw3w _kC3e _32ILh _2L9kx _30q3D _1y_ge _3QJkO'}).text)"
   ]
  },
  {
   "cell_type": "markdown",
   "metadata": {},
   "source": [
    "### Starting from an ad in the right place, collect all the information available to define the product being sold. Use selenium for the telephone number"
   ]
  },
  {
   "cell_type": "code",
   "execution_count": 20,
   "metadata": {
    "tags": []
   },
   "outputs": [
    {
     "output_type": "stream",
     "name": "stdout",
     "text": [
      "https://www.leboncoin.fr/livres/1963802714.htm?ac=1481102916 403\nNone\n"
     ]
    }
   ],
   "source": [
    "url =\"https://www.leboncoin.fr/livres/1963802714.htm?ac=1481102916\"\n",
    "r = requests.get(url)\n",
    "print(url, r.status_code)\n",
    "\n",
    "soup = BeautifulSoup(r.content,'lxml')\n",
    "print(soup.content)\n",
    "with open('source_code_le_bon_coin.txt', 'w') as source:\n",
    "    source.write(r.text)\n",
    "##there is a scrapper detector and I don't have access to the source code webpage\n",
    "\n",
    "    "
   ]
  },
  {
   "cell_type": "code",
   "execution_count": 58,
   "metadata": {},
   "outputs": [
    {
     "output_type": "stream",
     "name": "stdout",
     "text": [
      "ready\n",
      "name :  Manuel Finances Publiques Droit\n",
      "price :  15 €\n",
      "state :  État neuf\n",
      "description :  Bonjour,\n",
      "\n",
      "Je vends ce manuel neuf à 15€, acheté 19.50€ à la Fnac en début d’année. Il n’a jamais servi et est en très bon état. \n",
      "\n",
      "Dépôt en main propre possible sur Rennes ou sur Chartres de Bretagne. Contact uniquement par SMS.\n",
      "\n",
      "Cordialement\n",
      "place :  Rennes 35000\n",
      "phone number :  06 32 72 04 58\n"
     ]
    }
   ],
   "source": [
    "url='https://www.leboncoin.fr/livres/1963802714.htm?ac=1481102916'\n",
    "print('ready')\n",
    "driver = webdriver.Chrome()\n",
    "driver.implicitly_wait(30)\n",
    "driver.get(url)\n",
    "time.sleep(15)\n",
    "elem = driver.find_element_by_xpath(\"//button[@title='voir le numéro']\")\n",
    "time.sleep(5)\n",
    "elem.click()\n",
    "time.sleep(5)\n",
    "soup=BeautifulSoup(driver.page_source)\n",
    "driver.close()\n",
    "\n",
    "product_info ={\n",
    "    'name': soup.find('h1').text,\n",
    "    'price' : soup.find('div', attrs={'data-qa-id':\"adview_price\"}).text,\n",
    "    'state' : soup.find('span', attrs={'class':\"_3eNLO _38n__ _137P- P4PEa _35DXM\"}).text,\n",
    "    'description' : soup.find('div', attrs={'data-qa-id':\"adview_description_container\"}).text,\n",
    "    'place' : soup.find_all('a', attrs={'class':\"_64Mha _2NG-q _1GcfX Dqdzf cJtdT _3j0OU\"})[4].text,\n",
    "    'phone number' : soup.find('a', attrs={'class':'_2qvLx _3osY2 _35pAC _1Vw3w _kC3e _32ILh _2L9kx _30q3D _1y_ge _3QJkO'}).text\n",
    "\n",
    "}\n",
    "\n",
    "\n",
    "for key, value in product_info.items():\n",
    "    print(key, \": \", value)"
   ]
  },
  {
   "cell_type": "markdown",
   "metadata": {},
   "source": [
    "### API (Application Program Interface)"
   ]
  },
  {
   "cell_type": "markdown",
   "metadata": {},
   "source": [
    "A set of tools and methods that allow different applications to interact with each other. In the case of a web service, we can retrieve data dynamically. By using an API correctly, we can thus obtain in real time, the modifications made on a \"parent\" site.\n",
    "\n",
    "For example, we will retrieve online news, for example from the \"L'équipe\" website."
   ]
  },
  {
   "cell_type": "markdown",
   "metadata": {},
   "source": [
    "Follow the instructions at https://newsapi.org/s/lequipe-api to retrieve an \"API key\" connection key"
   ]
  },
  {
   "cell_type": "markdown",
   "metadata": {},
   "source": [
    "Your API key is: 73bbb95f8ecb49b499113a46481b4af1\n",
    "\n",
    "\n",
    "It is frequent that a key does not work after a while 5mins 30 mins 1 d ...\n",
    "So don't jump up if you get an error message back."
   ]
  },
  {
   "cell_type": "code",
   "execution_count": 9,
   "metadata": {
    "scrolled": true
   },
   "outputs": [
    {
     "output_type": "stream",
     "name": "stdout",
     "text": [
      "{'status': 'ok', 'totalResults': 10, 'articles': [{'source': {'id': 'lequipe', 'name': \"L'equipe\"}, 'author': \"L'EQUIPE\", 'title': 'Miles Scotson en solitaire pour la 1re étape du Tour de Valence', 'description': \"Miles Scotson (Groupama-FDJ) s'est échappé à vingt kilomètres de l'arrivée.\", 'url': 'https://www.lequipe.fr/Cyclisme-sur-route/Actualites/Miles-scotson-en-solitaire-pour-la-1re-etape-du-tour-de-valence/1242586', 'urlToImage': 'https://medias.lequipe.fr/img-photo-jpg/miles-scotson-victorieux-a-ondara-luis-angel-gomez-bettiniphoto-presse-sports/1500000001475644/0:0,1998:1332-640-427-75/2d7de.jpg', 'publishedAt': '2021-04-14T14:10:00+00:00', 'content': \"La 1re étape du Tour de la Communauté de Valence a été remportée mercredi par l'Australien Miles Scotson (Groupama-FDJ), après être sorti du peloton à une vingtaine de kilomètres de l'arrivée. Sous l… [+162 chars]\"}, {'source': {'id': 'lequipe', 'name': \"L'equipe\"}, 'author': \"L'EQUIPE\", 'title': 'Des primes revalorisées pour les médaillés olympiques à Tokyo', 'description': \"Le ministre de l'Éducation et des Sports, Jean-Michel Blanquer, a indiqué mercredi que les primes olympiques avaient été revues à la hausse pour les JO de Tokyo.\", 'url': 'https://www.lequipe.fr/Tous-sports/Actualites/Des-primes-revalorisees-pour-les-medailles-olympiques-a-tokyo/1242585', 'urlToImage': 'https://medias.lequipe.fr/img-photo-jpg/les-primes-pour-les-futurs-medailles-olympiques-a-tokyo-ont-ete-revues-a-la-hausse-p-lahalle-l-eq/1500000001475643/0:0,1995:1330-640-427-75/42ebe.jpg', 'publishedAt': '2021-04-14T14:08:00+00:00', 'content': \"Jean-Michel Blanquer, ministre de l'Éducation, de la Jeunesse et des Sports, a annoncé mercredi la revalorisation des primes pour les futurs médaillés des Jeux olympiques et paralympiques de Tokyo, à… [+63 chars]\"}, {'source': {'id': 'lequipe', 'name': \"L'equipe\"}, 'author': \"L'EQUIPE\", 'title': 'Choupo-Moting adresse ses encouragements au PSG', 'description': \"L'attaquant du Bayern Munich, qui a bien failli être le bourreau du PSG en marquant deux buts en quarts de finale, a posté un message touchant sur les réseaux sociaux à son ancien club.\", 'url': 'https://www.lequipe.fr/Football/Actualites/Choupo-moting-adresse-ses-encouragements-au-psg/1242581', 'urlToImage': 'https://medias.lequipe.fr/img-photo-jpg/eric-choupo-moting-b-papon-l-equipe/1500000001475636/0:0,1331:1331-640-640-75/0a6f1.jpg', 'publishedAt': '2021-04-14T14:04:00+00:00', 'content': \"«\\xa0Quelle bataille difficile cela a été\\xa0! Toujours très déçu parce que nous étions si proches\\xa0! Je suis fier de l'équipe car nous nous sommes battus jusqu'à la dernière seconde @fcbayern. Félicitation… [+372 chars]\"}, {'source': {'id': 'lequipe', 'name': \"L'equipe\"}, 'author': \"L'EQUIPE\", 'title': 'Morhad Amdouni pense doubler 10\\xa0000\\xa0m et marathon aux JO de Tokyo en 2021', 'description': \"Auteur d'un test concluant sur 30\\xa0km ce mercredi afin de démontrer son état de forme pour le marathon olympique, Morhad Amdouni pourrait également s'aligner sur le 10\\xa0000\\xa0m au Japon.\", 'url': 'https://www.lequipe.fr/Athletisme/Actualites/Morhad-amdouni-pense-doubler-10-000-m-et-marathon-aux-jo-de-tokyo-en-2021/1242575', 'urlToImage': 'https://medias.lequipe.fr/img-photo-jpg/morhad-amdouni-t-shirt-bleu-lors-du-10-km-d-albi-en-decembre-n-luttiau-l-equipe/1500000001475628/0:0,1991:1328-640-427-75/193b2.jpg', 'publishedAt': '2021-04-14T13:51:00+00:00', 'content': \"C'est un passage obligé pour tous les marathoniens désireux de fouler le bitume de Sapporo cet été. Jusqu'à la mi-mai, les athlètes ayant réalisé les minima pour le marathon des Jeux Olympiques de To… [+2095 chars]\"}, {'source': {'id': 'lequipe', 'name': \"L'equipe\"}, 'author': \"L'EQUIPE\", 'title': \"Lucas Pouille s'arrache face à Alexei Popyrin à Monte-Carlo\", 'description': \"Après un gros combat, Lucas Pouille s'est arraché pour battre (7-5, 2-6, 6-3) Alexei Popyrin au deuxième tour du Masters 1000 de Monte-Carlo.\", 'url': 'https://www.lequipe.fr/Tennis/Actualites/Lucas-pouille-s-arrache-face-a-alexei-popyrin/1242573', 'urlToImage': 'https://medias.lequipe.fr/img-photo-jpg/lucas-pouille-honore-sa-wild-card-a-monte-carlo-avec-une-qualification-pour-les-huitiemes-de-finale/1500000001475627/0:0,1992:1328-640-427-75/f7123.jpg', 'publishedAt': '2021-04-14T13:44:00+00:00', 'content': \"Au bord de la rupture, Lucas Pouille s'est arraché pour battre (7-5, 2-6, 6-3 en 2h01) Alexei Popyrin au deuxième tour du Masters 1000 de Monte-Carlo. Breaké au troisième set (3-2), le Nordiste n'a j… [+926 chars]\"}, {'source': {'id': 'lequipe', 'name': \"L'equipe\"}, 'author': \"L'EQUIPE\", 'title': 'Niko Kovac critique le processus de recrutement du Bayern Munich', 'description': \"L'ancien entraîneur du Bayern Munich Niko Kovac, désormais à Monaco, a critiqué la façon de fonctionner de son ancien club en termes de recrutement.\", 'url': 'https://www.lequipe.fr/Football/Actualites/Niko-kovac-critique-le-processus-de-recrutement-du-bayern-munich/1242570', 'urlToImage': 'https://medias.lequipe.fr/img-photo-jpg/niko-kovac-l-entraineur-de-monaco-n-luttiau-l-equipe/1500000001475623/0:0,1997:1331-640-427-75/1f049.jpg', 'publishedAt': '2021-04-14T13:34:00+00:00', 'content': \"Niko Kovac a évoqué les différences de méthodes entre l'AS\\xa0Monaco et le Bayern Munich, son ancien club (2018-2019). Et la principale concerne le recrutement. Ainsi, dans un entretien à Sport Bild mer… [+1181 chars]\"}, {'source': {'id': 'lequipe', 'name': \"L'equipe\"}, 'author': \"L'EQUIPE\", 'title': 'Christian Mbilli affrontera le Mexicain Gutierrez à West Point', 'description': \"L'invaincu français Christian Mbilli, qui vit à Montréal, affrontera le Mexicain Jesus Antonio Gutierrez jeudi 22 avril dans la fameuse académie militaire de West Point.\", 'url': 'https://www.lequipe.fr/Boxe/Actualites/Christian-mbilli-affrontera-le-mexicain-gutierrez-a-west-point/1242566', 'urlToImage': 'https://medias.lequipe.fr/img-photo-jpg/professionnel-depuis-fevrier-2017-christian-mbilli-a-dispute-sept-de-ses-dix-sept-combats-en-france/1500000001475620/0:0,1995:1330-640-427-75/e5130.jpg', 'publishedAt': '2021-04-14T13:20:00+00:00', 'content': 'Christian Mbilli (25 ans, 1,74m, 17 victoires, dont 16 avant la limite, 0 défaite) affrontera le Mexicain Jesus Antonio Gutierrez (26 ans, 1,80m, 27 victoires, dont 14 avant la limite, 2 nuls, 4 défa… [+1094 chars]'}, {'source': {'id': 'lequipe', 'name': \"L'equipe\"}, 'author': \"L'EQUIPE\", 'title': 'Maxime Lopez est officiellement un joueur de Sassuolo', 'description': \"L'option d'achat de Maxime Lopez a été automatiquement levée par Sassuolo. L'OM va récupérer entre 1 et 3\\xa0millions d'euros.\", 'url': 'https://www.lequipe.fr/Football/Actualites/Maxime-lopez-est-officiellement-un-joueur-de-sassuolo/1242564', 'urlToImage': 'https://medias.lequipe.fr/img-photo-jpg/maxime-lopez-s-est-impose-a-sassuolo-alberto-sabattini-presse-sports/1500000001475619/0:112,1997:1443-640-427-75/3d6af.jpg', 'publishedAt': '2021-04-14T13:15:00+00:00', 'content': \"Ce n'était plus qu'une question de jours, c'est désormais officiel\\xa0: Maxime Lopez, prêté par l'Olympique de Marseille depuis octobre, est officiellement un joueur de Sassuolo. Juste après la victoire… [+693 chars]\"}, {'source': {'id': 'lequipe', 'name': \"L'equipe\"}, 'author': \"L'EQUIPE\", 'title': \"La Flèche Brabançonne 2021 en direct sur le site et la chaîne L'Équipe\", 'description': \"En direct sur le site et la chaîne L'Équipe, suivez à partir de 15h15 la Flèche Brabançonne 2021.\", 'url': 'https://www.lequipe.fr/Cyclisme-sur-route/Actualites/La-fleche-brabanconne-2021-en-direct-sur-le-site-et-la-chaine-l-equipe/1242557', 'urlToImage': 'https://medias.lequipe.fr/img-video-cover/1500000001208871/640/0', 'publishedAt': '2021-04-14T13:15:00+00:00', 'content': \"En direct sur le site et la chaîne L'Équipe, vivez à partir de 15h15 la 61e édition de la Flèche Brabançonne, en présence notamment de Wout Van Aert, Greg Van Avermaet, Jasper Stuyven, Michael Matthe… [+143 chars]\"}, {'source': {'id': 'lequipe', 'name': \"L'equipe\"}, 'author': \"L'EQUIPE\", 'title': \"Liverpool vise l'exploit face au Real Madrid\", 'description': \"Après une défaite à l'aller (1-3), Liverpool va devoir réussir un petit exploit face au Real Madrid pour se qualifier. Mais Liverpool a déjà réussi de beaux retournements de situation. Présentation en stats du quart de finale retour entre les deux équipes.\", 'url': 'https://www.lequipe.fr/Football/Actualites/Liverpool-vise-l-exploit-face-au-real-madrid/1242558', 'urlToImage': 'https://medias.lequipe.fr/img-video-cover/1500000001475603/640/0', 'publishedAt': '2021-04-14T12:52:00+00:00', 'content': 'Une semaine après\\xa0sa défaite à Madrid (1-3), Liverpool accueille le Real, mercredi (21\\xa0heures), en quarts de finale retour de la Ligue des champions. Pour se qualifier, les hommes de Jürgen Klopp von… [+150 chars]'}]}\n"
     ]
    }
   ],
   "source": [
    "import requests\n",
    "key='55f52879ce2742758eec9a4bbfc31cdd'\n",
    "url ='https://newsapi.org/v2/top-headlines?sources=lequipe&apiKey='+key\n",
    "response = requests.get(url)\n",
    "\n",
    "# Here the response format is a json file, it is used as a dictionary\n",
    "\n",
    "print (response.json())"
   ]
  },
  {
   "cell_type": "code",
   "execution_count": 10,
   "metadata": {},
   "outputs": [
    {
     "output_type": "stream",
     "name": "stdout",
     "text": [
      "dict_keys(['status', 'totalResults', 'articles'])\n"
     ]
    }
   ],
   "source": [
    "dic=response.json()\n",
    "print(dic.keys())"
   ]
  },
  {
   "cell_type": "code",
   "execution_count": 11,
   "metadata": {
    "scrolled": true
   },
   "outputs": [
    {
     "output_type": "stream",
     "name": "stdout",
     "text": [
      "##############################################\nclé:  status // values:  ok\n##############################################\nclé:  totalResults // values:  10\n##############################################\nclé:  articles // values:  [{'source': {'id': 'lequipe', 'name': \"L'equipe\"}, 'author': \"L'EQUIPE\", 'title': 'Miles Scotson en solitaire pour la 1re étape du Tour de Valence', 'description': \"Miles Scotson (Groupama-FDJ) s'est échappé à vingt kilomètres de l'arrivée.\", 'url': 'https://www.lequipe.fr/Cyclisme-sur-route/Actualites/Miles-scotson-en-solitaire-pour-la-1re-etape-du-tour-de-valence/1242586', 'urlToImage': 'https://medias.lequipe.fr/img-photo-jpg/miles-scotson-victorieux-a-ondara-luis-angel-gomez-bettiniphoto-presse-sports/1500000001475644/0:0,1998:1332-640-427-75/2d7de.jpg', 'publishedAt': '2021-04-14T14:10:00+00:00', 'content': \"La 1re étape du Tour de la Communauté de Valence a été remportée mercredi par l'Australien Miles Scotson (Groupama-FDJ), après être sorti du peloton à une vingtaine de kilomètres de l'arrivée. Sous l… [+162 chars]\"}, {'source': {'id': 'lequipe', 'name': \"L'equipe\"}, 'author': \"L'EQUIPE\", 'title': 'Des primes revalorisées pour les médaillés olympiques à Tokyo', 'description': \"Le ministre de l'Éducation et des Sports, Jean-Michel Blanquer, a indiqué mercredi que les primes olympiques avaient été revues à la hausse pour les JO de Tokyo.\", 'url': 'https://www.lequipe.fr/Tous-sports/Actualites/Des-primes-revalorisees-pour-les-medailles-olympiques-a-tokyo/1242585', 'urlToImage': 'https://medias.lequipe.fr/img-photo-jpg/les-primes-pour-les-futurs-medailles-olympiques-a-tokyo-ont-ete-revues-a-la-hausse-p-lahalle-l-eq/1500000001475643/0:0,1995:1330-640-427-75/42ebe.jpg', 'publishedAt': '2021-04-14T14:08:00+00:00', 'content': \"Jean-Michel Blanquer, ministre de l'Éducation, de la Jeunesse et des Sports, a annoncé mercredi la revalorisation des primes pour les futurs médaillés des Jeux olympiques et paralympiques de Tokyo, à… [+63 chars]\"}, {'source': {'id': 'lequipe', 'name': \"L'equipe\"}, 'author': \"L'EQUIPE\", 'title': 'Choupo-Moting adresse ses encouragements au PSG', 'description': \"L'attaquant du Bayern Munich, qui a bien failli être le bourreau du PSG en marquant deux buts en quarts de finale, a posté un message touchant sur les réseaux sociaux à son ancien club.\", 'url': 'https://www.lequipe.fr/Football/Actualites/Choupo-moting-adresse-ses-encouragements-au-psg/1242581', 'urlToImage': 'https://medias.lequipe.fr/img-photo-jpg/eric-choupo-moting-b-papon-l-equipe/1500000001475636/0:0,1331:1331-640-640-75/0a6f1.jpg', 'publishedAt': '2021-04-14T14:04:00+00:00', 'content': \"«\\xa0Quelle bataille difficile cela a été\\xa0! Toujours très déçu parce que nous étions si proches\\xa0! Je suis fier de l'équipe car nous nous sommes battus jusqu'à la dernière seconde @fcbayern. Félicitation… [+372 chars]\"}, {'source': {'id': 'lequipe', 'name': \"L'equipe\"}, 'author': \"L'EQUIPE\", 'title': 'Morhad Amdouni pense doubler 10\\xa0000\\xa0m et marathon aux JO de Tokyo en 2021', 'description': \"Auteur d'un test concluant sur 30\\xa0km ce mercredi afin de démontrer son état de forme pour le marathon olympique, Morhad Amdouni pourrait également s'aligner sur le 10\\xa0000\\xa0m au Japon.\", 'url': 'https://www.lequipe.fr/Athletisme/Actualites/Morhad-amdouni-pense-doubler-10-000-m-et-marathon-aux-jo-de-tokyo-en-2021/1242575', 'urlToImage': 'https://medias.lequipe.fr/img-photo-jpg/morhad-amdouni-t-shirt-bleu-lors-du-10-km-d-albi-en-decembre-n-luttiau-l-equipe/1500000001475628/0:0,1991:1328-640-427-75/193b2.jpg', 'publishedAt': '2021-04-14T13:51:00+00:00', 'content': \"C'est un passage obligé pour tous les marathoniens désireux de fouler le bitume de Sapporo cet été. Jusqu'à la mi-mai, les athlètes ayant réalisé les minima pour le marathon des Jeux Olympiques de To… [+2095 chars]\"}, {'source': {'id': 'lequipe', 'name': \"L'equipe\"}, 'author': \"L'EQUIPE\", 'title': \"Lucas Pouille s'arrache face à Alexei Popyrin à Monte-Carlo\", 'description': \"Après un gros combat, Lucas Pouille s'est arraché pour battre (7-5, 2-6, 6-3) Alexei Popyrin au deuxième tour du Masters 1000 de Monte-Carlo.\", 'url': 'https://www.lequipe.fr/Tennis/Actualites/Lucas-pouille-s-arrache-face-a-alexei-popyrin/1242573', 'urlToImage': 'https://medias.lequipe.fr/img-photo-jpg/lucas-pouille-honore-sa-wild-card-a-monte-carlo-avec-une-qualification-pour-les-huitiemes-de-finale/1500000001475627/0:0,1992:1328-640-427-75/f7123.jpg', 'publishedAt': '2021-04-14T13:44:00+00:00', 'content': \"Au bord de la rupture, Lucas Pouille s'est arraché pour battre (7-5, 2-6, 6-3 en 2h01) Alexei Popyrin au deuxième tour du Masters 1000 de Monte-Carlo. Breaké au troisième set (3-2), le Nordiste n'a j… [+926 chars]\"}, {'source': {'id': 'lequipe', 'name': \"L'equipe\"}, 'author': \"L'EQUIPE\", 'title': 'Niko Kovac critique le processus de recrutement du Bayern Munich', 'description': \"L'ancien entraîneur du Bayern Munich Niko Kovac, désormais à Monaco, a critiqué la façon de fonctionner de son ancien club en termes de recrutement.\", 'url': 'https://www.lequipe.fr/Football/Actualites/Niko-kovac-critique-le-processus-de-recrutement-du-bayern-munich/1242570', 'urlToImage': 'https://medias.lequipe.fr/img-photo-jpg/niko-kovac-l-entraineur-de-monaco-n-luttiau-l-equipe/1500000001475623/0:0,1997:1331-640-427-75/1f049.jpg', 'publishedAt': '2021-04-14T13:34:00+00:00', 'content': \"Niko Kovac a évoqué les différences de méthodes entre l'AS\\xa0Monaco et le Bayern Munich, son ancien club (2018-2019). Et la principale concerne le recrutement. Ainsi, dans un entretien à Sport Bild mer… [+1181 chars]\"}, {'source': {'id': 'lequipe', 'name': \"L'equipe\"}, 'author': \"L'EQUIPE\", 'title': 'Christian Mbilli affrontera le Mexicain Gutierrez à West Point', 'description': \"L'invaincu français Christian Mbilli, qui vit à Montréal, affrontera le Mexicain Jesus Antonio Gutierrez jeudi 22 avril dans la fameuse académie militaire de West Point.\", 'url': 'https://www.lequipe.fr/Boxe/Actualites/Christian-mbilli-affrontera-le-mexicain-gutierrez-a-west-point/1242566', 'urlToImage': 'https://medias.lequipe.fr/img-photo-jpg/professionnel-depuis-fevrier-2017-christian-mbilli-a-dispute-sept-de-ses-dix-sept-combats-en-france/1500000001475620/0:0,1995:1330-640-427-75/e5130.jpg', 'publishedAt': '2021-04-14T13:20:00+00:00', 'content': 'Christian Mbilli (25 ans, 1,74m, 17 victoires, dont 16 avant la limite, 0 défaite) affrontera le Mexicain Jesus Antonio Gutierrez (26 ans, 1,80m, 27 victoires, dont 14 avant la limite, 2 nuls, 4 défa… [+1094 chars]'}, {'source': {'id': 'lequipe', 'name': \"L'equipe\"}, 'author': \"L'EQUIPE\", 'title': 'Maxime Lopez est officiellement un joueur de Sassuolo', 'description': \"L'option d'achat de Maxime Lopez a été automatiquement levée par Sassuolo. L'OM va récupérer entre 1 et 3\\xa0millions d'euros.\", 'url': 'https://www.lequipe.fr/Football/Actualites/Maxime-lopez-est-officiellement-un-joueur-de-sassuolo/1242564', 'urlToImage': 'https://medias.lequipe.fr/img-photo-jpg/maxime-lopez-s-est-impose-a-sassuolo-alberto-sabattini-presse-sports/1500000001475619/0:112,1997:1443-640-427-75/3d6af.jpg', 'publishedAt': '2021-04-14T13:15:00+00:00', 'content': \"Ce n'était plus qu'une question de jours, c'est désormais officiel\\xa0: Maxime Lopez, prêté par l'Olympique de Marseille depuis octobre, est officiellement un joueur de Sassuolo. Juste après la victoire… [+693 chars]\"}, {'source': {'id': 'lequipe', 'name': \"L'equipe\"}, 'author': \"L'EQUIPE\", 'title': \"La Flèche Brabançonne 2021 en direct sur le site et la chaîne L'Équipe\", 'description': \"En direct sur le site et la chaîne L'Équipe, suivez à partir de 15h15 la Flèche Brabançonne 2021.\", 'url': 'https://www.lequipe.fr/Cyclisme-sur-route/Actualites/La-fleche-brabanconne-2021-en-direct-sur-le-site-et-la-chaine-l-equipe/1242557', 'urlToImage': 'https://medias.lequipe.fr/img-video-cover/1500000001208871/640/0', 'publishedAt': '2021-04-14T13:15:00+00:00', 'content': \"En direct sur le site et la chaîne L'Équipe, vivez à partir de 15h15 la 61e édition de la Flèche Brabançonne, en présence notamment de Wout Van Aert, Greg Van Avermaet, Jasper Stuyven, Michael Matthe… [+143 chars]\"}, {'source': {'id': 'lequipe', 'name': \"L'equipe\"}, 'author': \"L'EQUIPE\", 'title': \"Liverpool vise l'exploit face au Real Madrid\", 'description': \"Après une défaite à l'aller (1-3), Liverpool va devoir réussir un petit exploit face au Real Madrid pour se qualifier. Mais Liverpool a déjà réussi de beaux retournements de situation. Présentation en stats du quart de finale retour entre les deux équipes.\", 'url': 'https://www.lequipe.fr/Football/Actualites/Liverpool-vise-l-exploit-face-au-real-madrid/1242558', 'urlToImage': 'https://medias.lequipe.fr/img-video-cover/1500000001475603/640/0', 'publishedAt': '2021-04-14T12:52:00+00:00', 'content': 'Une semaine après\\xa0sa défaite à Madrid (1-3), Liverpool accueille le Real, mercredi (21\\xa0heures), en quarts de finale retour de la Ligue des champions. Pour se qualifier, les hommes de Jürgen Klopp von… [+150 chars]'}]\n"
     ]
    }
   ],
   "source": [
    "for elem in list(dic.keys()):\n",
    "    print('##############################################')\n",
    "    print(\"clé: \",elem,\"// values: \", dic[elem])"
   ]
  },
  {
   "cell_type": "code",
   "execution_count": 12,
   "metadata": {
    "scrolled": true
   },
   "outputs": [
    {
     "output_type": "stream",
     "name": "stdout",
     "text": [
      "###############################################\n(0, {'source': {'id': 'lequipe', 'name': \"L'equipe\"}, 'author': \"L'EQUIPE\", 'title': 'Miles Scotson en solitaire pour la 1re étape du Tour de Valence', 'description': \"Miles Scotson (Groupama-FDJ) s'est échappé à vingt kilomètres de l'arrivée.\", 'url': 'https://www.lequipe.fr/Cyclisme-sur-route/Actualites/Miles-scotson-en-solitaire-pour-la-1re-etape-du-tour-de-valence/1242586', 'urlToImage': 'https://medias.lequipe.fr/img-photo-jpg/miles-scotson-victorieux-a-ondara-luis-angel-gomez-bettiniphoto-presse-sports/1500000001475644/0:0,1998:1332-640-427-75/2d7de.jpg', 'publishedAt': '2021-04-14T14:10:00+00:00', 'content': \"La 1re étape du Tour de la Communauté de Valence a été remportée mercredi par l'Australien Miles Scotson (Groupama-FDJ), après être sorti du peloton à une vingtaine de kilomètres de l'arrivée. Sous l… [+162 chars]\"})\n###############################################\n(1, {'source': {'id': 'lequipe', 'name': \"L'equipe\"}, 'author': \"L'EQUIPE\", 'title': 'Des primes revalorisées pour les médaillés olympiques à Tokyo', 'description': \"Le ministre de l'Éducation et des Sports, Jean-Michel Blanquer, a indiqué mercredi que les primes olympiques avaient été revues à la hausse pour les JO de Tokyo.\", 'url': 'https://www.lequipe.fr/Tous-sports/Actualites/Des-primes-revalorisees-pour-les-medailles-olympiques-a-tokyo/1242585', 'urlToImage': 'https://medias.lequipe.fr/img-photo-jpg/les-primes-pour-les-futurs-medailles-olympiques-a-tokyo-ont-ete-revues-a-la-hausse-p-lahalle-l-eq/1500000001475643/0:0,1995:1330-640-427-75/42ebe.jpg', 'publishedAt': '2021-04-14T14:08:00+00:00', 'content': \"Jean-Michel Blanquer, ministre de l'Éducation, de la Jeunesse et des Sports, a annoncé mercredi la revalorisation des primes pour les futurs médaillés des Jeux olympiques et paralympiques de Tokyo, à… [+63 chars]\"})\n###############################################\n(2, {'source': {'id': 'lequipe', 'name': \"L'equipe\"}, 'author': \"L'EQUIPE\", 'title': 'Choupo-Moting adresse ses encouragements au PSG', 'description': \"L'attaquant du Bayern Munich, qui a bien failli être le bourreau du PSG en marquant deux buts en quarts de finale, a posté un message touchant sur les réseaux sociaux à son ancien club.\", 'url': 'https://www.lequipe.fr/Football/Actualites/Choupo-moting-adresse-ses-encouragements-au-psg/1242581', 'urlToImage': 'https://medias.lequipe.fr/img-photo-jpg/eric-choupo-moting-b-papon-l-equipe/1500000001475636/0:0,1331:1331-640-640-75/0a6f1.jpg', 'publishedAt': '2021-04-14T14:04:00+00:00', 'content': \"«\\xa0Quelle bataille difficile cela a été\\xa0! Toujours très déçu parce que nous étions si proches\\xa0! Je suis fier de l'équipe car nous nous sommes battus jusqu'à la dernière seconde @fcbayern. Félicitation… [+372 chars]\"})\n###############################################\n(3, {'source': {'id': 'lequipe', 'name': \"L'equipe\"}, 'author': \"L'EQUIPE\", 'title': 'Morhad Amdouni pense doubler 10\\xa0000\\xa0m et marathon aux JO de Tokyo en 2021', 'description': \"Auteur d'un test concluant sur 30\\xa0km ce mercredi afin de démontrer son état de forme pour le marathon olympique, Morhad Amdouni pourrait également s'aligner sur le 10\\xa0000\\xa0m au Japon.\", 'url': 'https://www.lequipe.fr/Athletisme/Actualites/Morhad-amdouni-pense-doubler-10-000-m-et-marathon-aux-jo-de-tokyo-en-2021/1242575', 'urlToImage': 'https://medias.lequipe.fr/img-photo-jpg/morhad-amdouni-t-shirt-bleu-lors-du-10-km-d-albi-en-decembre-n-luttiau-l-equipe/1500000001475628/0:0,1991:1328-640-427-75/193b2.jpg', 'publishedAt': '2021-04-14T13:51:00+00:00', 'content': \"C'est un passage obligé pour tous les marathoniens désireux de fouler le bitume de Sapporo cet été. Jusqu'à la mi-mai, les athlètes ayant réalisé les minima pour le marathon des Jeux Olympiques de To… [+2095 chars]\"})\n###############################################\n(4, {'source': {'id': 'lequipe', 'name': \"L'equipe\"}, 'author': \"L'EQUIPE\", 'title': \"Lucas Pouille s'arrache face à Alexei Popyrin à Monte-Carlo\", 'description': \"Après un gros combat, Lucas Pouille s'est arraché pour battre (7-5, 2-6, 6-3) Alexei Popyrin au deuxième tour du Masters 1000 de Monte-Carlo.\", 'url': 'https://www.lequipe.fr/Tennis/Actualites/Lucas-pouille-s-arrache-face-a-alexei-popyrin/1242573', 'urlToImage': 'https://medias.lequipe.fr/img-photo-jpg/lucas-pouille-honore-sa-wild-card-a-monte-carlo-avec-une-qualification-pour-les-huitiemes-de-finale/1500000001475627/0:0,1992:1328-640-427-75/f7123.jpg', 'publishedAt': '2021-04-14T13:44:00+00:00', 'content': \"Au bord de la rupture, Lucas Pouille s'est arraché pour battre (7-5, 2-6, 6-3 en 2h01) Alexei Popyrin au deuxième tour du Masters 1000 de Monte-Carlo. Breaké au troisième set (3-2), le Nordiste n'a j… [+926 chars]\"})\n###############################################\n(5, {'source': {'id': 'lequipe', 'name': \"L'equipe\"}, 'author': \"L'EQUIPE\", 'title': 'Niko Kovac critique le processus de recrutement du Bayern Munich', 'description': \"L'ancien entraîneur du Bayern Munich Niko Kovac, désormais à Monaco, a critiqué la façon de fonctionner de son ancien club en termes de recrutement.\", 'url': 'https://www.lequipe.fr/Football/Actualites/Niko-kovac-critique-le-processus-de-recrutement-du-bayern-munich/1242570', 'urlToImage': 'https://medias.lequipe.fr/img-photo-jpg/niko-kovac-l-entraineur-de-monaco-n-luttiau-l-equipe/1500000001475623/0:0,1997:1331-640-427-75/1f049.jpg', 'publishedAt': '2021-04-14T13:34:00+00:00', 'content': \"Niko Kovac a évoqué les différences de méthodes entre l'AS\\xa0Monaco et le Bayern Munich, son ancien club (2018-2019). Et la principale concerne le recrutement. Ainsi, dans un entretien à Sport Bild mer… [+1181 chars]\"})\n###############################################\n(6, {'source': {'id': 'lequipe', 'name': \"L'equipe\"}, 'author': \"L'EQUIPE\", 'title': 'Christian Mbilli affrontera le Mexicain Gutierrez à West Point', 'description': \"L'invaincu français Christian Mbilli, qui vit à Montréal, affrontera le Mexicain Jesus Antonio Gutierrez jeudi 22 avril dans la fameuse académie militaire de West Point.\", 'url': 'https://www.lequipe.fr/Boxe/Actualites/Christian-mbilli-affrontera-le-mexicain-gutierrez-a-west-point/1242566', 'urlToImage': 'https://medias.lequipe.fr/img-photo-jpg/professionnel-depuis-fevrier-2017-christian-mbilli-a-dispute-sept-de-ses-dix-sept-combats-en-france/1500000001475620/0:0,1995:1330-640-427-75/e5130.jpg', 'publishedAt': '2021-04-14T13:20:00+00:00', 'content': 'Christian Mbilli (25 ans, 1,74m, 17 victoires, dont 16 avant la limite, 0 défaite) affrontera le Mexicain Jesus Antonio Gutierrez (26 ans, 1,80m, 27 victoires, dont 14 avant la limite, 2 nuls, 4 défa… [+1094 chars]'})\n###############################################\n(7, {'source': {'id': 'lequipe', 'name': \"L'equipe\"}, 'author': \"L'EQUIPE\", 'title': 'Maxime Lopez est officiellement un joueur de Sassuolo', 'description': \"L'option d'achat de Maxime Lopez a été automatiquement levée par Sassuolo. L'OM va récupérer entre 1 et 3\\xa0millions d'euros.\", 'url': 'https://www.lequipe.fr/Football/Actualites/Maxime-lopez-est-officiellement-un-joueur-de-sassuolo/1242564', 'urlToImage': 'https://medias.lequipe.fr/img-photo-jpg/maxime-lopez-s-est-impose-a-sassuolo-alberto-sabattini-presse-sports/1500000001475619/0:112,1997:1443-640-427-75/3d6af.jpg', 'publishedAt': '2021-04-14T13:15:00+00:00', 'content': \"Ce n'était plus qu'une question de jours, c'est désormais officiel\\xa0: Maxime Lopez, prêté par l'Olympique de Marseille depuis octobre, est officiellement un joueur de Sassuolo. Juste après la victoire… [+693 chars]\"})\n###############################################\n(8, {'source': {'id': 'lequipe', 'name': \"L'equipe\"}, 'author': \"L'EQUIPE\", 'title': \"La Flèche Brabançonne 2021 en direct sur le site et la chaîne L'Équipe\", 'description': \"En direct sur le site et la chaîne L'Équipe, suivez à partir de 15h15 la Flèche Brabançonne 2021.\", 'url': 'https://www.lequipe.fr/Cyclisme-sur-route/Actualites/La-fleche-brabanconne-2021-en-direct-sur-le-site-et-la-chaine-l-equipe/1242557', 'urlToImage': 'https://medias.lequipe.fr/img-video-cover/1500000001208871/640/0', 'publishedAt': '2021-04-14T13:15:00+00:00', 'content': \"En direct sur le site et la chaîne L'Équipe, vivez à partir de 15h15 la 61e édition de la Flèche Brabançonne, en présence notamment de Wout Van Aert, Greg Van Avermaet, Jasper Stuyven, Michael Matthe… [+143 chars]\"})\n###############################################\n(9, {'source': {'id': 'lequipe', 'name': \"L'equipe\"}, 'author': \"L'EQUIPE\", 'title': \"Liverpool vise l'exploit face au Real Madrid\", 'description': \"Après une défaite à l'aller (1-3), Liverpool va devoir réussir un petit exploit face au Real Madrid pour se qualifier. Mais Liverpool a déjà réussi de beaux retournements de situation. Présentation en stats du quart de finale retour entre les deux équipes.\", 'url': 'https://www.lequipe.fr/Football/Actualites/Liverpool-vise-l-exploit-face-au-real-madrid/1242558', 'urlToImage': 'https://medias.lequipe.fr/img-video-cover/1500000001475603/640/0', 'publishedAt': '2021-04-14T12:52:00+00:00', 'content': 'Une semaine après\\xa0sa défaite à Madrid (1-3), Liverpool accueille le Real, mercredi (21\\xa0heures), en quarts de finale retour de la Ligue des champions. Pour se qualifier, les hommes de Jürgen Klopp von… [+150 chars]'})\n"
     ]
    }
   ],
   "source": [
    "# And now we have lists in dictionaries it's json but it's always the same thing\n",
    "# We will discover the information of the article key\n",
    "for elem in enumerate(dic['articles']):\n",
    "    print('###############################################')\n",
    "    print(elem)"
   ]
  },
  {
   "cell_type": "code",
   "execution_count": 13,
   "metadata": {},
   "outputs": [
    {
     "output_type": "stream",
     "name": "stdout",
     "text": [
      " Key :  source Values :  {'id': 'lequipe', 'name': \"L'equipe\"}\n Key :  author Values :  L'EQUIPE\n Key :  title Values :  Miles Scotson en solitaire pour la 1re étape du Tour de Valence\n Key :  description Values :  Miles Scotson (Groupama-FDJ) s'est échappé à vingt kilomètres de l'arrivée.\n Key :  url Values :  https://www.lequipe.fr/Cyclisme-sur-route/Actualites/Miles-scotson-en-solitaire-pour-la-1re-etape-du-tour-de-valence/1242586\n Key :  urlToImage Values :  https://medias.lequipe.fr/img-photo-jpg/miles-scotson-victorieux-a-ondara-luis-angel-gomez-bettiniphoto-presse-sports/1500000001475644/0:0,1998:1332-640-427-75/2d7de.jpg\n Key :  publishedAt Values :  2021-04-14T14:10:00+00:00\n Key :  content Values :  La 1re étape du Tour de la Communauté de Valence a été remportée mercredi par l'Australien Miles Scotson (Groupama-FDJ), après être sorti du peloton à une vingtaine de kilomètres de l'arrivée. Sous l… [+162 chars]\n"
     ]
    }
   ],
   "source": [
    "# So if we keep going, it gives us another dictionary!\n",
    "for elem in dic['articles'][0].keys():\n",
    "    print(' Key : ',elem,'Values : ',dic['articles'][0][elem])"
   ]
  },
  {
   "cell_type": "markdown",
   "metadata": {},
   "source": [
    "### Make a script that allows you to take details of the last ten news from the team or another site. Store them in a nice csv or excel file"
   ]
  },
  {
   "cell_type": "code",
   "execution_count": 18,
   "metadata": {},
   "outputs": [
    {
     "output_type": "stream",
     "name": "stdout",
     "text": [
      "[\"L'EQUIPE\", \"L'EQUIPE\", \"L'EQUIPE\", \"L'EQUIPE\", \"L'EQUIPE\", \"L'EQUIPE\", \"L'EQUIPE\", \"L'EQUIPE\", \"L'EQUIPE\", \"L'EQUIPE\"]\n"
     ]
    }
   ],
   "source": [
    "title = []\n",
    "author = []\n",
    "content = []\n",
    "for i in range(10):\n",
    "    title.append(dic['articles'][i]['title'])\n",
    "    author.append(dic['articles'][i]['author'])\n",
    "    content.append(dic['articles'][i]['content'])\n",
    "print(author)"
   ]
  },
  {
   "cell_type": "code",
   "execution_count": 19,
   "metadata": {},
   "outputs": [],
   "source": [
    "import pandas as pd\n",
    "df=pd.DataFrame({'Titre':title})\n",
    "df['auteur']=author\n",
    "df['article']=content"
   ]
  },
  {
   "cell_type": "code",
   "execution_count": 20,
   "metadata": {},
   "outputs": [],
   "source": [
    "df.to_csv('./assets/articles.csv', index=False)"
   ]
  },
  {
   "cell_type": "code",
   "execution_count": 5,
   "metadata": {},
   "outputs": [
    {
     "output_type": "error",
     "ename": "AssertionError",
     "evalue": "",
     "traceback": [
      "\u001b[0;31m---------------------------------------------------------------------------\u001b[0m",
      "\u001b[0;31mAssertionError\u001b[0m                            Traceback (most recent call last)",
      "\u001b[0;32m<ipython-input-5-874019777318>\u001b[0m in \u001b[0;36m<module>\u001b[0;34m\u001b[0m\n\u001b[1;32m      6\u001b[0m \u001b[0mdriver\u001b[0m\u001b[0;34m.\u001b[0m\u001b[0mget\u001b[0m\u001b[0;34m(\u001b[0m\u001b[0;34m\"https://immo.vlan.be/fr\"\u001b[0m\u001b[0;34m)\u001b[0m\u001b[0;34m\u001b[0m\u001b[0;34m\u001b[0m\u001b[0m\n\u001b[1;32m      7\u001b[0m \u001b[0;31m# The following line is a statement confirming that the title contains the word \"Python\"\u001b[0m\u001b[0;34m\u001b[0m\u001b[0;34m\u001b[0m\u001b[0;34m\u001b[0m\u001b[0m\n\u001b[0;32m----> 8\u001b[0;31m \u001b[0;32massert\u001b[0m \u001b[0;34m\"vlan\"\u001b[0m \u001b[0;32min\u001b[0m \u001b[0mdriver\u001b[0m\u001b[0;34m.\u001b[0m\u001b[0mtitle\u001b[0m\u001b[0;34m\u001b[0m\u001b[0;34m\u001b[0m\u001b[0m\n\u001b[0m\u001b[1;32m      9\u001b[0m \u001b[0;31m# WebDriver offers several methods to search for items using one of the methods\u001b[0m\u001b[0;34m\u001b[0m\u001b[0;34m\u001b[0m\u001b[0;34m\u001b[0m\u001b[0m\n\u001b[1;32m     10\u001b[0m \u001b[0;31m# find_element_by_by_ * . For example, the input text element can be located by its name attribute by\u001b[0m\u001b[0;34m\u001b[0m\u001b[0;34m\u001b[0m\u001b[0;34m\u001b[0m\u001b[0m\n",
      "\u001b[0;31mAssertionError\u001b[0m: "
     ]
    }
   ],
   "source": [
    "driver = webdriver.Chrome()\n",
    "# The driver.get method will lead to a page given by the URL. WebDriver will wait until the page is fully completed \n",
    "# loaded (i.e. the \"onload\" event has been triggered) before returning the control to your script. \n",
    "# It should be noted that if your page uses a lot of AJAX when loading, WebDriver may not know \n",
    "# when it was fully charged:\n",
    "driver.get(\"https://immo.vlan.be/fr\")\n",
    "# The following line is a statement confirming that the title contains the word \"Python\"\n",
    "assert \"vlan\" in driver.title\n",
    "# WebDriver offers several methods to search for items using one of the methods \n",
    "# find_element_by_by_ * . For example, the input text element can be located by its name attribute by \n",
    "# using the find_element_by_name method \n",
    "\n",
    "time.sleep(15)\n",
    "elem = driver.find_element_by_xpath(\"//button[@title='voir le numéro']\")\n",
    "# Then we send keys. This is similar to entering keys using your keyboard. \n",
    "# Special keys can be sent using the imported selenium.webdriver.common.keys Keys class. \n",
    "# For security reasons, we will delete any pre-filled text in the input field \n",
    "# (for example, \"Search\") so that it does not affect our search results:\n",
    "\n",
    "\n",
    "elem.clear()\n",
    "elem.send_keys(\"7000\")\n",
    "elem.send_keys(Keys.RETURN)\n",
    "time.sleep(15)\n",
    "#After submitting the page, you should get the result if there is one. To ensure that certain results \n",
    "# are found, make an assertion:\n",
    "assert \"No results found.\" not in driver.page_source\n",
    "\n",
    "\n",
    "driver.close()"
   ]
  },
  {
   "cell_type": "code",
   "execution_count": 44,
   "metadata": {
    "tags": []
   },
   "outputs": [
    {
     "output_type": "stream",
     "name": "stdout",
     "text": [
      "ready\n",
      "/fr/detail/terrain-a-batir/a-vendre/6180/courcelles/var59104\n",
      "/fr/detail/appartement/a-vendre/7170/la-hestre/var58606\n",
      "/fr/detail/maison/a-vendre/5190/ham-sur-sambre/var57536\n",
      "/fr/detail/maison/a-vendre/4400/flemalle/var57146\n",
      "/fr/detail/immeuble-mixte/a-vendre/7120/peissant/var57020\n",
      "/fr/detail/appartement/a-vendre/2260/tongerlo/raw65225\n",
      "/fr/detail/maison/a-vendre/2620/hemiksem/raw65031\n",
      "/fr/detail/maison/a-vendre/2990/wuustwezel/raw63959\n",
      "/fr/detail/villa/a-vendre/3080/tervuren/raw62354\n",
      "/fr/detail/maison/a-vendre/8530/harelbeke/raw62256\n",
      "/fr/detail/maison-de-maitre/a-vendre/9300/alost/raw61933\n",
      "/fr/detail/maison/a-vendre/8610/handzame/raw60048\n",
      "/fr/detail/maison/a-vendre/8680/koekelare/raw60045\n",
      "/fr/detail/maison/a-vendre/8501/bissegem/raw60036\n",
      "/fr/detail/appartement/a-vendre/8890/dadizele/raw60035\n",
      "/fr/detail/maison/a-vendre/9700/audenarde/raw59956\n",
      "/fr/detail/appartement/a-vendre/9600/renaix/raw59914\n",
      "/fr/detail/maison/a-vendre/8630/houtem/raw59658\n",
      "/fr/detail/maison/a-vendre/2310/rijkevorsel/raw58467\n",
      "/fr/detail/maison/a-vendre/2530/boechout/raw57780\n",
      "/fr/detail/maison/a-vendre/5002/saint-servais/var50266\n",
      "/fr/detail/maison-de-rapport/a-vendre/6032/mont-sur-marchienne/var49824\n",
      "/fr/detail/maison/a-vendre/8500/courtrai/raw57254\n",
      "/fr/detail/appartement/a-vendre/1210/saint-josse-ten-noode/raw56919\n",
      "/fr/detail/maison/a-vendre/6220/wangenies/vwc95883\n",
      "/fr/detail/appartement/a-vendre/8370/blankenberge/raw56904\n",
      "/fr/detail/bureaux/a-vendre/3500/hasselt/raw56591\n",
      "/fr/detail/appartement/a-vendre/1180/uccle/var48930\n",
      "/fr/detail/maison/a-vendre/2660/hoboken/raw56011\n",
      "/fr/detail/maison/a-vendre/8800/roeselare/raw55944\n",
      "/fr/detail/terrain-a-batir/a-vendre/6180/courcelles/var59104\n",
      "/fr/detail/terrain-a-batir/a-vendre/6180/courcelles/var59104\n",
      "/fr/detail/terrain-a-batir/a-vendre/6180/courcelles/var59104\n",
      "/fr/detail/terrain-a-batir/a-vendre/6180/courcelles/var59104\n",
      "/fr/detail/terrain-a-batir/a-vendre/6180/courcelles/var59104\n",
      "/fr/detail/appartement/a-vendre/7170/la-hestre/var58606\n",
      "/fr/detail/appartement/a-vendre/7170/la-hestre/var58606\n",
      "/fr/detail/appartement/a-vendre/7170/la-hestre/var58606\n",
      "/fr/detail/appartement/a-vendre/7170/la-hestre/var58606\n",
      "/fr/detail/appartement/a-vendre/7170/la-hestre/var58606\n",
      "/fr/detail/maison/a-vendre/5190/ham-sur-sambre/var57536\n",
      "/fr/detail/maison/a-vendre/5190/ham-sur-sambre/var57536\n",
      "/fr/detail/maison/a-vendre/5190/ham-sur-sambre/var57536\n",
      "/fr/detail/maison/a-vendre/5190/ham-sur-sambre/var57536\n",
      "/fr/detail/maison/a-vendre/5190/ham-sur-sambre/var57536\n",
      "/fr/detail/maison/a-vendre/4400/flemalle/var57146\n",
      "/fr/detail/maison/a-vendre/4400/flemalle/var57146\n",
      "/fr/detail/maison/a-vendre/4400/flemalle/var57146\n",
      "/fr/detail/maison/a-vendre/4400/flemalle/var57146\n",
      "/fr/detail/maison/a-vendre/4400/flemalle/var57146\n",
      "/fr/detail/immeuble-mixte/a-vendre/7120/peissant/var57020\n",
      "/fr/detail/immeuble-mixte/a-vendre/7120/peissant/var57020\n",
      "/fr/detail/immeuble-mixte/a-vendre/7120/peissant/var57020\n",
      "/fr/detail/immeuble-mixte/a-vendre/7120/peissant/var57020\n",
      "/fr/detail/immeuble-mixte/a-vendre/7120/peissant/var57020\n",
      "/fr/detail/appartement/a-vendre/2260/tongerlo/raw65225\n",
      "/fr/detail/appartement/a-vendre/2260/tongerlo/raw65225\n",
      "/fr/detail/appartement/a-vendre/2260/tongerlo/raw65225\n",
      "/fr/detail/appartement/a-vendre/2260/tongerlo/raw65225\n",
      "/fr/detail/appartement/a-vendre/2260/tongerlo/raw65225\n",
      "/fr/detail/maison/a-vendre/2620/hemiksem/raw65031\n",
      "/fr/detail/maison/a-vendre/2620/hemiksem/raw65031\n",
      "/fr/detail/maison/a-vendre/2620/hemiksem/raw65031\n",
      "/fr/detail/maison/a-vendre/2620/hemiksem/raw65031\n",
      "/fr/detail/maison/a-vendre/2620/hemiksem/raw65031\n",
      "/fr/detail/maison/a-vendre/2990/wuustwezel/raw63959\n",
      "/fr/detail/maison/a-vendre/2990/wuustwezel/raw63959\n",
      "/fr/detail/maison/a-vendre/2990/wuustwezel/raw63959\n",
      "/fr/detail/maison/a-vendre/2990/wuustwezel/raw63959\n",
      "/fr/detail/maison/a-vendre/2990/wuustwezel/raw63959\n",
      "/fr/detail/villa/a-vendre/3080/tervuren/raw62354\n",
      "/fr/detail/villa/a-vendre/3080/tervuren/raw62354\n",
      "/fr/detail/villa/a-vendre/3080/tervuren/raw62354\n",
      "/fr/detail/villa/a-vendre/3080/tervuren/raw62354\n",
      "/fr/detail/villa/a-vendre/3080/tervuren/raw62354\n",
      "/fr/detail/maison/a-vendre/8530/harelbeke/raw62256\n",
      "/fr/detail/maison/a-vendre/8530/harelbeke/raw62256\n",
      "/fr/detail/maison/a-vendre/8530/harelbeke/raw62256\n",
      "/fr/detail/maison/a-vendre/8530/harelbeke/raw62256\n",
      "/fr/detail/maison/a-vendre/8530/harelbeke/raw62256\n",
      "/fr/detail/maison-de-maitre/a-vendre/9300/alost/raw61933\n",
      "/fr/detail/maison-de-maitre/a-vendre/9300/alost/raw61933\n",
      "/fr/detail/maison-de-maitre/a-vendre/9300/alost/raw61933\n",
      "/fr/detail/maison-de-maitre/a-vendre/9300/alost/raw61933\n",
      "/fr/detail/maison-de-maitre/a-vendre/9300/alost/raw61933\n",
      "/fr/detail/maison/a-vendre/8610/handzame/raw60048\n",
      "/fr/detail/maison/a-vendre/8610/handzame/raw60048\n",
      "/fr/detail/maison/a-vendre/8610/handzame/raw60048\n",
      "/fr/detail/maison/a-vendre/8610/handzame/raw60048\n",
      "/fr/detail/maison/a-vendre/8610/handzame/raw60048\n",
      "/fr/detail/maison/a-vendre/8680/koekelare/raw60045\n",
      "/fr/detail/maison/a-vendre/8680/koekelare/raw60045\n",
      "/fr/detail/maison/a-vendre/8680/koekelare/raw60045\n",
      "/fr/detail/maison/a-vendre/8680/koekelare/raw60045\n",
      "/fr/detail/maison/a-vendre/8680/koekelare/raw60045\n",
      "/fr/detail/maison/a-vendre/8501/bissegem/raw60036\n",
      "/fr/detail/maison/a-vendre/8501/bissegem/raw60036\n",
      "/fr/detail/maison/a-vendre/8501/bissegem/raw60036\n",
      "/fr/detail/maison/a-vendre/8501/bissegem/raw60036\n",
      "/fr/detail/maison/a-vendre/8501/bissegem/raw60036\n",
      "/fr/detail/appartement/a-vendre/8890/dadizele/raw60035\n",
      "/fr/detail/appartement/a-vendre/8890/dadizele/raw60035\n",
      "/fr/detail/appartement/a-vendre/8890/dadizele/raw60035\n",
      "/fr/detail/appartement/a-vendre/8890/dadizele/raw60035\n",
      "/fr/detail/appartement/a-vendre/8890/dadizele/raw60035\n",
      "/fr/detail/maison/a-vendre/9700/audenarde/raw59956\n",
      "/fr/detail/maison/a-vendre/9700/audenarde/raw59956\n",
      "/fr/detail/maison/a-vendre/9700/audenarde/raw59956\n",
      "/fr/detail/maison/a-vendre/9700/audenarde/raw59956\n",
      "/fr/detail/maison/a-vendre/9700/audenarde/raw59956\n",
      "/fr/detail/appartement/a-vendre/9600/renaix/raw59914\n",
      "/fr/detail/appartement/a-vendre/9600/renaix/raw59914\n",
      "/fr/detail/appartement/a-vendre/9600/renaix/raw59914\n",
      "/fr/detail/appartement/a-vendre/9600/renaix/raw59914\n",
      "/fr/detail/appartement/a-vendre/9600/renaix/raw59914\n",
      "/fr/detail/maison/a-vendre/8630/houtem/raw59658\n",
      "/fr/detail/maison/a-vendre/8630/houtem/raw59658\n",
      "/fr/detail/maison/a-vendre/8630/houtem/raw59658\n",
      "/fr/detail/maison/a-vendre/8630/houtem/raw59658\n",
      "/fr/detail/maison/a-vendre/8630/houtem/raw59658\n",
      "/fr/detail/maison/a-vendre/2310/rijkevorsel/raw58467\n",
      "/fr/detail/maison/a-vendre/2310/rijkevorsel/raw58467\n",
      "/fr/detail/maison/a-vendre/2310/rijkevorsel/raw58467\n",
      "/fr/detail/maison/a-vendre/2310/rijkevorsel/raw58467\n",
      "/fr/detail/maison/a-vendre/2310/rijkevorsel/raw58467\n",
      "/fr/detail/maison/a-vendre/2530/boechout/raw57780\n",
      "/fr/detail/maison/a-vendre/2530/boechout/raw57780\n",
      "/fr/detail/maison/a-vendre/2530/boechout/raw57780\n",
      "/fr/detail/maison/a-vendre/2530/boechout/raw57780\n",
      "/fr/detail/maison/a-vendre/2530/boechout/raw57780\n",
      "/fr/detail/maison/a-vendre/5002/saint-servais/var50266\n",
      "/fr/detail/maison/a-vendre/5002/saint-servais/var50266\n",
      "/fr/detail/maison/a-vendre/5002/saint-servais/var50266\n",
      "/fr/detail/maison/a-vendre/5002/saint-servais/var50266\n",
      "/fr/detail/maison/a-vendre/5002/saint-servais/var50266\n",
      "/fr/detail/maison-de-rapport/a-vendre/6032/mont-sur-marchienne/var49824\n",
      "/fr/detail/maison-de-rapport/a-vendre/6032/mont-sur-marchienne/var49824\n",
      "/fr/detail/maison-de-rapport/a-vendre/6032/mont-sur-marchienne/var49824\n",
      "/fr/detail/maison-de-rapport/a-vendre/6032/mont-sur-marchienne/var49824\n",
      "/fr/detail/maison-de-rapport/a-vendre/6032/mont-sur-marchienne/var49824\n",
      "/fr/detail/maison/a-vendre/8500/courtrai/raw57254\n",
      "/fr/detail/maison/a-vendre/8500/courtrai/raw57254\n",
      "/fr/detail/maison/a-vendre/8500/courtrai/raw57254\n",
      "/fr/detail/maison/a-vendre/8500/courtrai/raw57254\n",
      "/fr/detail/maison/a-vendre/8500/courtrai/raw57254\n",
      "/fr/detail/appartement/a-vendre/1210/saint-josse-ten-noode/raw56919\n",
      "/fr/detail/appartement/a-vendre/1210/saint-josse-ten-noode/raw56919\n",
      "/fr/detail/appartement/a-vendre/1210/saint-josse-ten-noode/raw56919\n",
      "/fr/detail/appartement/a-vendre/1210/saint-josse-ten-noode/raw56919\n",
      "/fr/detail/appartement/a-vendre/1210/saint-josse-ten-noode/raw56919\n",
      "/fr/detail/maison/a-vendre/6220/wangenies/vwc95883\n",
      "/fr/detail/maison/a-vendre/6220/wangenies/vwc95883\n",
      "/fr/detail/maison/a-vendre/6220/wangenies/vwc95883\n",
      "/fr/detail/maison/a-vendre/6220/wangenies/vwc95883\n",
      "/fr/detail/maison/a-vendre/6220/wangenies/vwc95883\n",
      "/fr/detail/appartement/a-vendre/8370/blankenberge/raw56904\n",
      "/fr/detail/appartement/a-vendre/8370/blankenberge/raw56904\n",
      "/fr/detail/appartement/a-vendre/8370/blankenberge/raw56904\n",
      "/fr/detail/appartement/a-vendre/8370/blankenberge/raw56904\n",
      "/fr/detail/appartement/a-vendre/8370/blankenberge/raw56904\n",
      "/fr/detail/bureaux/a-vendre/3500/hasselt/raw56591\n",
      "/fr/detail/bureaux/a-vendre/3500/hasselt/raw56591\n",
      "/fr/detail/bureaux/a-vendre/3500/hasselt/raw56591\n",
      "/fr/detail/bureaux/a-vendre/3500/hasselt/raw56591\n",
      "/fr/detail/bureaux/a-vendre/3500/hasselt/raw56591\n",
      "/fr/detail/appartement/a-vendre/1180/uccle/var48930\n",
      "/fr/detail/appartement/a-vendre/1180/uccle/var48930\n",
      "/fr/detail/appartement/a-vendre/1180/uccle/var48930\n",
      "/fr/detail/appartement/a-vendre/1180/uccle/var48930\n",
      "/fr/detail/appartement/a-vendre/1180/uccle/var48930\n",
      "/fr/detail/maison/a-vendre/2660/hoboken/raw56011\n",
      "/fr/detail/maison/a-vendre/2660/hoboken/raw56011\n",
      "/fr/detail/maison/a-vendre/2660/hoboken/raw56011\n",
      "/fr/detail/maison/a-vendre/2660/hoboken/raw56011\n",
      "/fr/detail/maison/a-vendre/2660/hoboken/raw56011\n",
      "/fr/detail/maison/a-vendre/8800/roeselare/raw55944\n",
      "/fr/detail/maison/a-vendre/8800/roeselare/raw55944\n",
      "/fr/detail/maison/a-vendre/8800/roeselare/raw55944\n",
      "/fr/detail/maison/a-vendre/8800/roeselare/raw55944\n",
      "/fr/detail/maison/a-vendre/8800/roeselare/raw55944\n",
      "https://play.google.com/store/apps/details?id=com.czaam\n",
      "/fr/detail/terrain-a-batir/a-vendre/6180/courcelles/var59104\n",
      "/fr/detail/appartement/a-vendre/7170/la-hestre/var58606\n",
      "/fr/detail/maison/a-vendre/5190/ham-sur-sambre/var57536\n",
      "/fr/detail/maison/a-vendre/4400/flemalle/var57146\n",
      "/fr/detail/immeuble-mixte/a-vendre/7120/peissant/var57020\n",
      "/fr/detail/appartement/a-vendre/2260/tongerlo/raw65225\n",
      "/fr/detail/maison/a-vendre/2620/hemiksem/raw65031\n",
      "/fr/detail/maison/a-vendre/2990/wuustwezel/raw63959\n",
      "/fr/detail/villa/a-vendre/3080/tervuren/raw62354\n",
      "/fr/detail/maison/a-vendre/8530/harelbeke/raw62256\n",
      "/fr/detail/maison-de-maitre/a-vendre/9300/alost/raw61933\n",
      "/fr/detail/maison/a-vendre/8610/handzame/raw60048\n",
      "/fr/detail/maison/a-vendre/8680/koekelare/raw60045\n",
      "/fr/detail/maison/a-vendre/8501/bissegem/raw60036\n",
      "/fr/detail/appartement/a-vendre/8890/dadizele/raw60035\n",
      "/fr/detail/maison/a-vendre/9700/audenarde/raw59956\n",
      "/fr/detail/appartement/a-vendre/9600/renaix/raw59914\n",
      "/fr/detail/maison/a-vendre/8630/houtem/raw59658\n",
      "/fr/detail/maison/a-vendre/2310/rijkevorsel/raw58467\n",
      "/fr/detail/maison/a-vendre/2530/boechout/raw57780\n",
      "/fr/detail/maison/a-vendre/5002/saint-servais/var50266\n",
      "/fr/detail/maison-de-rapport/a-vendre/6032/mont-sur-marchienne/var49824\n",
      "/fr/detail/maison/a-vendre/8500/courtrai/raw57254\n",
      "/fr/detail/appartement/a-vendre/1210/saint-josse-ten-noode/raw56919\n",
      "/fr/detail/maison/a-vendre/6220/wangenies/vwc95883\n",
      "/fr/detail/appartement/a-vendre/8370/blankenberge/raw56904\n",
      "/fr/detail/bureaux/a-vendre/3500/hasselt/raw56591\n",
      "/fr/detail/appartement/a-vendre/1180/uccle/var48930\n",
      "/fr/detail/maison/a-vendre/2660/hoboken/raw56011\n",
      "/fr/detail/maison/a-vendre/8800/roeselare/raw55944\n",
      "/fr/detail/terrain-a-batir/a-vendre/7100/saint-vaast/vwc95880\n",
      "/fr/detail/terrain-a-batir/a-vendre/7100/saint-vaast/vwc95880\n",
      "/fr/detail/terrain-a-batir/a-vendre/7100/saint-vaast/vwc95880\n",
      "/fr/detail/terrain-a-batir/a-vendre/7100/saint-vaast/vwc95880\n",
      "/fr/detail/terrain-a-batir/a-vendre/7100/saint-vaast/vwc95880\n",
      "/fr/detail/villa/a-vendre/9870/zulte/raw52923\n",
      "/fr/detail/villa/a-vendre/9870/zulte/raw52923\n",
      "/fr/detail/villa/a-vendre/9870/zulte/raw52923\n",
      "/fr/detail/villa/a-vendre/9870/zulte/raw52923\n",
      "/fr/detail/villa/a-vendre/9870/zulte/raw52923\n",
      "/fr/detail/villa/a-vendre/8830/gits/raw51497\n",
      "/fr/detail/villa/a-vendre/8830/gits/raw51497\n",
      "/fr/detail/villa/a-vendre/8830/gits/raw51497\n",
      "/fr/detail/villa/a-vendre/8830/gits/raw51497\n",
      "/fr/detail/villa/a-vendre/8830/gits/raw51497\n",
      "/fr/detail/maison/a-vendre/8553/otegem/raw51304\n",
      "/fr/detail/maison/a-vendre/8553/otegem/raw51304\n",
      "/fr/detail/maison/a-vendre/8553/otegem/raw51304\n",
      "/fr/detail/maison/a-vendre/8553/otegem/raw51304\n",
      "/fr/detail/maison/a-vendre/8553/otegem/raw51304\n",
      "/fr/detail/appartement/a-vendre/2880/bornem/raw51297\n",
      "/fr/detail/appartement/a-vendre/2880/bornem/raw51297\n",
      "/fr/projectdetail/2727986\n",
      "/fr/detail/appartement/a-vendre/2880/bornem/raw51297\n",
      "/fr/detail/appartement/a-vendre/2880/bornem/raw51297\n",
      "/fr/detail/appartement/a-vendre/2880/bornem/raw51297\n",
      "/fr/detail/appartement/a-vendre/2880/bornem/raw51296\n",
      "/fr/detail/appartement/a-vendre/2880/bornem/raw51296\n",
      "/fr/projectdetail/2727986\n",
      "/fr/detail/appartement/a-vendre/2880/bornem/raw51296\n",
      "/fr/detail/appartement/a-vendre/2880/bornem/raw51296\n",
      "/fr/detail/appartement/a-vendre/2880/bornem/raw51296\n",
      "/fr/detail/appartement/a-vendre/2880/bornem/raw51292\n",
      "/fr/detail/appartement/a-vendre/2880/bornem/raw51292\n",
      "/fr/projectdetail/2727986\n",
      "/fr/detail/appartement/a-vendre/2880/bornem/raw51292\n",
      "/fr/detail/appartement/a-vendre/2880/bornem/raw51292\n",
      "/fr/detail/appartement/a-vendre/2880/bornem/raw51292\n",
      "/fr/detail/appartement/a-vendre/9100/sint-niklaas/raw51290\n",
      "/fr/detail/appartement/a-vendre/9100/sint-niklaas/raw51290\n",
      "/fr/detail/appartement/a-vendre/9100/sint-niklaas/raw51290\n",
      "/fr/detail/appartement/a-vendre/9100/sint-niklaas/raw51290\n",
      "/fr/detail/appartement/a-vendre/9100/sint-niklaas/raw51290\n",
      "/fr/detail/maison-de-rapport/a-vendre/8810/lichtervelde/raw51269\n",
      "/fr/detail/maison-de-rapport/a-vendre/8810/lichtervelde/raw51269\n",
      "/fr/projectdetail/2717290\n",
      "/fr/detail/maison-de-rapport/a-vendre/8810/lichtervelde/raw51269\n",
      "/fr/detail/maison-de-rapport/a-vendre/8810/lichtervelde/raw51269\n",
      "/fr/detail/maison-de-rapport/a-vendre/8810/lichtervelde/raw51269\n",
      "/fr/detail/maison-de-rapport/a-vendre/8810/lichtervelde/raw51187\n",
      "/fr/detail/maison-de-rapport/a-vendre/8810/lichtervelde/raw51187\n",
      "/fr/projectdetail/2717290\n",
      "/fr/detail/maison-de-rapport/a-vendre/8810/lichtervelde/raw51187\n",
      "/fr/detail/maison-de-rapport/a-vendre/8810/lichtervelde/raw51187\n",
      "/fr/detail/maison-de-rapport/a-vendre/8810/lichtervelde/raw51187\n",
      "/fr/detail/appartement/a-vendre/8400/ostende/raw51179\n",
      "/fr/detail/appartement/a-vendre/8400/ostende/raw51179\n",
      "/fr/detail/appartement/a-vendre/8400/ostende/raw51179\n",
      "/fr/detail/appartement/a-vendre/8400/ostende/raw51179\n",
      "/fr/detail/appartement/a-vendre/8400/ostende/raw51179\n",
      "/fr/detail/surface-commerciale/a-vendre/3550/heusden/raw51024\n",
      "/fr/detail/surface-commerciale/a-vendre/3550/heusden/raw51024\n",
      "/fr/detail/surface-commerciale/a-vendre/3550/heusden/raw51024\n",
      "/fr/detail/surface-commerciale/a-vendre/3550/heusden/raw51024\n",
      "/fr/detail/surface-commerciale/a-vendre/3550/heusden/raw51024\n",
      "/fr/detail/surface-commerciale/a-vendre/3550/heusden/raw51018\n",
      "/fr/detail/surface-commerciale/a-vendre/3550/heusden/raw51018\n",
      "/fr/detail/surface-commerciale/a-vendre/3550/heusden/raw51018\n",
      "/fr/detail/surface-commerciale/a-vendre/3550/heusden/raw51018\n",
      "/fr/detail/surface-commerciale/a-vendre/3550/heusden/raw51018\n",
      "/fr/detail/maison/a-vendre/9700/audenarde/raw47550\n",
      "/fr/detail/maison/a-vendre/9700/audenarde/raw47550\n",
      "/fr/detail/maison/a-vendre/9700/audenarde/raw47550\n",
      "/fr/detail/maison/a-vendre/9700/audenarde/raw47550\n",
      "/fr/detail/maison/a-vendre/9700/audenarde/raw47550\n",
      "/fr/detail/appartement/a-vendre/9052/zwijnaarde/raw47281\n",
      "/fr/detail/appartement/a-vendre/9052/zwijnaarde/raw47281\n",
      "/fr/detail/appartement/a-vendre/9052/zwijnaarde/raw47281\n",
      "/fr/detail/appartement/a-vendre/9052/zwijnaarde/raw47281\n",
      "/fr/detail/appartement/a-vendre/9052/zwijnaarde/raw47281\n",
      "/fr/detail/maison/a-vendre/8840/oostnieuwkerke/raw47229\n",
      "/fr/detail/maison/a-vendre/8840/oostnieuwkerke/raw47229\n",
      "/fr/detail/maison/a-vendre/8840/oostnieuwkerke/raw47229\n",
      "/fr/detail/maison/a-vendre/8840/oostnieuwkerke/raw47229\n",
      "/fr/detail/maison/a-vendre/8840/oostnieuwkerke/raw47229\n",
      "/fr/detail/terrain-a-batir/a-vendre/8840/oostnieuwkerke/raw47226\n",
      "/fr/detail/terrain-a-batir/a-vendre/8840/oostnieuwkerke/raw47226\n",
      "/fr/detail/terrain-a-batir/a-vendre/8840/oostnieuwkerke/raw47226\n",
      "/fr/detail/terrain-a-batir/a-vendre/8840/oostnieuwkerke/raw47226\n",
      "/fr/detail/terrain-a-batir/a-vendre/8840/oostnieuwkerke/raw47226\n",
      "/fr/detail/maison/a-vendre/8680/koekelare/raw47222\n",
      "/fr/detail/maison/a-vendre/8680/koekelare/raw47222\n",
      "/fr/detail/maison/a-vendre/8680/koekelare/raw47222\n",
      "/fr/detail/maison/a-vendre/8680/koekelare/raw47222\n",
      "/fr/detail/maison/a-vendre/8680/koekelare/raw47222\n",
      "/fr/detail/maison/a-vendre/8610/kortemark/raw47221\n",
      "/fr/detail/maison/a-vendre/8610/kortemark/raw47221\n",
      "/fr/detail/maison/a-vendre/8610/kortemark/raw47221\n",
      "/fr/detail/maison/a-vendre/8610/kortemark/raw47221\n",
      "/fr/detail/maison/a-vendre/8610/kortemark/raw47221\n",
      "/fr/detail/maison/a-vendre/8840/staden/raw47220\n",
      "/fr/detail/maison/a-vendre/8840/staden/raw47220\n",
      "/fr/detail/maison/a-vendre/8840/staden/raw47220\n",
      "/fr/detail/maison/a-vendre/8840/staden/raw47220\n",
      "/fr/detail/maison/a-vendre/8840/staden/raw47220\n",
      "/fr/detail/terrain-a-batir/a-vendre/8770/ingelmunster/raw47215\n",
      "/fr/detail/terrain-a-batir/a-vendre/8770/ingelmunster/raw47215\n",
      "/fr/detail/terrain-a-batir/a-vendre/8770/ingelmunster/raw47215\n",
      "/fr/detail/terrain-a-batir/a-vendre/8770/ingelmunster/raw47215\n",
      "/fr/detail/terrain-a-batir/a-vendre/8770/ingelmunster/raw47215\n",
      "/fr/detail/maison/a-vendre/2100/deurne/raw46222\n",
      "/fr/detail/maison/a-vendre/2100/deurne/raw46222\n",
      "/fr/detail/maison/a-vendre/2100/deurne/raw46222\n",
      "/fr/detail/maison/a-vendre/2100/deurne/raw46222\n",
      "/fr/detail/maison/a-vendre/2100/deurne/raw46222\n",
      "/fr/detail/appartement/a-vendre/9150/rupelmonde/raw46189\n",
      "/fr/detail/appartement/a-vendre/9150/rupelmonde/raw46189\n",
      "/fr/detail/appartement/a-vendre/9150/rupelmonde/raw46189\n",
      "/fr/detail/appartement/a-vendre/9150/rupelmonde/raw46189\n",
      "/fr/detail/appartement/a-vendre/9150/rupelmonde/raw46189\n",
      "/fr/detail/terrain-a-batir/a-vendre/5641/furnaux/vwc95860\n",
      "/fr/detail/terrain-a-batir/a-vendre/5641/furnaux/vwc95860\n",
      "/fr/detail/terrain-a-batir/a-vendre/5641/furnaux/vwc95860\n",
      "/fr/detail/terrain-a-batir/a-vendre/5641/furnaux/vwc95860\n",
      "/fr/detail/terrain-a-batir/a-vendre/5641/furnaux/vwc95860\n",
      "/fr/detail/penthouse/a-vendre/1130/haren/var39785\n",
      "/fr/detail/penthouse/a-vendre/1130/haren/var39785\n",
      "/fr/detail/penthouse/a-vendre/1130/haren/var39785\n",
      "/fr/detail/penthouse/a-vendre/1130/haren/var39785\n",
      "/fr/detail/penthouse/a-vendre/1130/haren/var39785\n",
      "/fr/detail/appartement/a-vendre/5004/bouge/var39590\n",
      "/fr/detail/appartement/a-vendre/5004/bouge/var39590\n",
      "/fr/detail/appartement/a-vendre/5004/bouge/var39590\n",
      "/fr/detail/appartement/a-vendre/5004/bouge/var39590\n",
      "/fr/detail/appartement/a-vendre/5004/bouge/var39590\n",
      "/fr/detail/duplex/a-vendre/5004/bouge/var39589\n",
      "/fr/detail/duplex/a-vendre/5004/bouge/var39589\n",
      "/fr/detail/duplex/a-vendre/5004/bouge/var39589\n",
      "/fr/detail/duplex/a-vendre/5004/bouge/var39589\n",
      "/fr/detail/duplex/a-vendre/5004/bouge/var39589\n",
      "/fr/detail/maison/a-vendre/8710/wielsbeke/raw43283\n",
      "/fr/detail/maison/a-vendre/8710/wielsbeke/raw43283\n",
      "/fr/detail/maison/a-vendre/8710/wielsbeke/raw43283\n",
      "/fr/detail/maison/a-vendre/8710/wielsbeke/raw43283\n",
      "/fr/detail/maison/a-vendre/8710/wielsbeke/raw43283\n",
      "/fr/detail/maison/a-vendre/7100/trivieres/vwc95853\n",
      "/fr/detail/maison/a-vendre/7100/trivieres/vwc95853\n",
      "/fr/detail/maison/a-vendre/7100/trivieres/vwc95853\n",
      "/fr/detail/maison/a-vendre/7100/trivieres/vwc95853\n",
      "/fr/detail/maison/a-vendre/7100/trivieres/vwc95853\n",
      "/fr/detail/terrain-a-batir/a-vendre/5170/lustin/var38420\n",
      "/fr/detail/terrain-a-batir/a-vendre/5170/lustin/var38420\n",
      "/fr/detail/terrain-a-batir/a-vendre/5170/lustin/var38420\n",
      "/fr/detail/terrain-a-batir/a-vendre/5170/lustin/var38420\n",
      "/fr/detail/terrain-a-batir/a-vendre/5170/lustin/var38420\n",
      "https://play.google.com/store/apps/details?id=com.czaam\n",
      "2\n",
      "['https://immo.vlan.be/fr/immobilier?transactiontypes=a-vendre,en-vente-publique&noindex=1', 'https://immo.vlan.be/fr/immobilier?transactiontypes=a-vendre,en-vente-publique&countries=belgique&pageOffset=2&noindex=1']\n"
     ]
    }
   ],
   "source": [
    "\n",
    "from selenium import webdriver\n",
    "from selenium.webdriver.support.ui import WebDriverWait\n",
    "from selenium.webdriver.support import expected_conditions as EC\n",
    "from selenium.common.exceptions import TimeoutException\n",
    "from selenium.webdriver.common.by import By\n",
    "from selenium.webdriver import ActionChains \n",
    "url='https://immo.vlan.be/fr'\n",
    "print('ready')\n",
    "source_pages = []\n",
    "source_pages_url = []\n",
    "driver = webdriver.Chrome()\n",
    "driver.implicitly_wait(10)\n",
    "driver.get(url)\n",
    "time.sleep(7)\n",
    "elem = driver.find_element_by_xpath(\"//input[@placeholder='Où ? Ville, Code Postal, Province ou Région.']\")\n",
    "elem.clear()\n",
    "elem.send_keys(\"7000\")\n",
    "elem.send_keys(Keys.RETURN)\n",
    "time.sleep(7)\n",
    "source_pages.append(driver.page_source)\n",
    "source_pages_url.append(driver.current_url)\n",
    "\n",
    "elem = driver.find_element_by_xpath(\"//a[@title='suivant']\")\n",
    "actions = ActionChains(driver)\n",
    "actions.move_to_element(elem)\n",
    "actions.click(elem)\n",
    "actions.perform()\n",
    "time.sleep(7)\n",
    "source_pages.append(driver.page_source)\n",
    "source_pages_url.append(driver.current_url)\n",
    "\n",
    "driver.close()\n",
    "#print(soup)\n",
    "#my_url = soup.find('a', attrs={'class':\"détails\"}).text\n",
    "\n",
    "soup=BeautifulSoup(source_pages[0])\n",
    "for link in soup.find_all('a'):\n",
    "    detail_url = link.get('href')\n",
    "    if detail_url == None:\n",
    "        continue\n",
    "    elif 'detail' in detail_url:\n",
    "        print(detail_url)\n",
    "\n",
    "soup=BeautifulSoup(source_pages[1])\n",
    "for link in soup.find_all('a'):\n",
    "    detail_url = link.get('href')\n",
    "    if detail_url == None:\n",
    "        continue\n",
    "    elif 'detail' in detail_url:\n",
    "        print(detail_url)\n",
    "print(len(source_pages))\n",
    "print(source_pages_url)\n",
    "\n",
    "#product_info ={\n",
    "    #'url': soup.find('a'attrs={'class':\"détails\"}).href,\n",
    "    #'type' : soup.find('div', attrs={'data-qa-id':\"adview_price\"}).text,\n",
    "    #'code postal' : 7000,\n",
    "\n",
    "#} /html/body/div[2]/div[4]/div[2]/div/div[1]/div/div/div/div/div[2]/div[2]/div/section/div[4]/div/div/div/ul/li[10]/a"
   ]
  },
  {
   "cell_type": "code",
   "execution_count": 35,
   "metadata": {},
   "outputs": [
    {
     "output_type": "stream",
     "name": "stdout",
     "text": [
      "https://immo.vlan.be/fr/immobilier?transactiontypes=a-vendre,en-vente-publique&noindex=1\n",
      "https://immo.vlan.be/fr/immobilier?transactiontypes=a-vendre,en-vente-publique&noindex=2 200\n",
      "b'<!doctype html>\\n<html lang=\"en\">\\n<head>\\n    <meta charset=\"utf-8\">\\n    <meta name=\"viewport\" content=\"width=device-width, initial-scale=1\">\\n    <meta http-equiv=\"X-UA-Compatible\" content=\"IE=edge\">\\n    <meta name=\"theme-color\" content=\"#4e2780\">\\n    \\n    <link rel=\"icon\" type=\"image/ico\" href=\"http://immo.vlan.be/Content/Images/favicon.ico\">\\n    <title>ImmoVlan.be</title>\\n    <meta name=\"robots\" content=\"noindex\">\\n\\n\\t<link href=\"http://immo.vlan.be/Content/css/bootstrap-md/bootstrap.min.css\" rel=\"stylesheet\"/>\\n\\t<link href=\"http://immo.vlan.be/Content/css/bootstrap-md/mdb.min.css\" rel=\"stylesheet\"/>\\n\\t<link href=\"http://immo.vlan.be/Content/css/bootstrap-override.css\" rel=\"stylesheet\"/>\\n</head>\\n\\n<body class=\"detail-page not-home en-lang\" style=\"overflow: visible; padding-right: 0 !important\">\\n    <div id=\"main_container\">\\n\\t\\t<div class=\"container mt-5 mb-5\">\\n\\t\\t\\t<div class=\"row\">\\n\\t\\t\\t\\t<div class=\"col-12\">\\n\\t\\t\\t\\t\\t<img class=\"img-fluid immovlan-main-logo\" src=\"http://immo.vlan.be/Content/Images/logo_immovlan.svg\" alt=\"Immovlan\" />\\n\\t\\t\\t\\t</div>\\n\\t\\t\\t</div>\\n\\t\\t\\t<div class=\"row mt-5\">\\n\\t\\t\\t\\t<div class=\"col-12\">\\n\\t\\t\\t\\t\\t<p class=\"lead\">We have detected some suspicious activity from this computer, due to which we have blocked your access to this site. Please complete the captcha to unblock your access.</p>\\n\\t\\t\\t\\t\\t\\n\\t\\t\\t\\t\\t<hr />\\n\\t\\t\\t\\t\\t<p>To avoid this situation happen again, please contact <a href=\"mailto:Immovlan-support@shieldsquare.com?subject=I%20am%20not%20a%20Bot%20|%20IP%202a02:2788:269:e186:eed0:8174:3357:3ffc&amp;body=Trace%20Information%3A%0D%0A%0D%0AURL%20%20%3A%20http://immo.vlan.be/fr/immobilier?transactiontypes=a-vendre,en-vente-publique&noindex=2%0D%0AIP%20%20%20%3A%202a02:2788:269:e186:eed0:8174:3357:3ffc%0D%0AID%20%20%20%3A%20bc79d125e75e2bbcb9d9538f8cb749868c536add%0D%0APage%20%3A%20captcha%20Page%0D%0D%0A%0D%0A%0D%0APlease%20unblock%20my%20IP%20since%20I%20am%20a%20genuine%20user.\">Immovlan-support@shieldsquare.com</a> and provide the following information:</p>\\n\\t\\t\\t\\t\\t<p>IP Address: <strong> 2a02:2788:269:e186:eed0:8174:3357:3ffc </strong></p>\\n\\t\\t\\t\\t\\t<p>User Agent: <strong> python-requests/2.24.0 </strong></p>\\n\\t\\t\\t\\t\\t<hr />\\n\\n                    \\t\\t\\t<div class=\"captcha-mid\">\\n                         \\t\\t\\t<form action=\"\" method=POST style=\"width:300px;margin-left:auto;margin-right:auto;\">\\n                         \\t\\t\\t\\t<script type=\"text/javascript\" src=\"https://www.google.com/recaptcha/api.js?hl=en\"></script>\\n                         \\t\\t\\t\\t<div class=\"g-recaptcha\" data-sitekey=\"6LeH3loUAAAAAI_m15sXabjr8-Iqj2yI3F3JeK8X\"></div>\\n                         \\t\\t\\t\\t<input type=\"hidden\" id=\"recaptcha_response\" name=\"recaptcha_response\"><br>\\n                         \\t\\t\\t\\t<center> <br> <input type=\"submit\" class=\"btn btn-primary\" Value=\"Submit\"><br></center>\\n                         \\t\\t\\t</form>\\n                    \\t\\t\\t</div>\\n\\t\\t\\t\\t</div>\\n\\t\\t\\t</div>\\n        </div>\\n</html>\\n\\n'\n"
     ]
    }
   ],
   "source": [
    "import requests\n",
    "next_url =new_url[0:-1]+\"2\"\n",
    "print(new_url)\n",
    "r = requests.get(next_url)\n",
    "print(next_url, r.status_code)\n",
    "soup = BeautifulSoup(r.content)\n",
    "print(r.content)\n",
    "\n",
    "for link in soup.find_all('a'):\n",
    "    detail_url = link.get('href')\n",
    "    if detail_url == None:\n",
    "        continue\n",
    "    elif 'detail' in detail_url:\n",
    "        print(detail_url)\n"
   ]
  },
  {
   "cell_type": "code",
   "execution_count": 23,
   "metadata": {},
   "outputs": [
    {
     "output_type": "stream",
     "name": "stdout",
     "text": [
      "https://immo.vlan.be/fr/immobilier?transactiontypes=a-vendre,en-vente-publique&noindex=2\n"
     ]
    }
   ],
   "source": [
    "print(new_url[0:-1]+\"2\")"
   ]
  },
  {
   "cell_type": "code",
   "execution_count": 43,
   "metadata": {},
   "outputs": [
    {
     "output_type": "stream",
     "name": "stdout",
     "text": [
      "/fr/detail/terrain-a-batir/a-vendre/6180/courcelles/var59104\n/fr/detail/appartement/a-vendre/7170/la-hestre/var58606\n/fr/detail/maison/a-vendre/5190/ham-sur-sambre/var57536\n/fr/detail/maison/a-vendre/4400/flemalle/var57146\n/fr/detail/immeuble-mixte/a-vendre/7120/peissant/var57020\n/fr/detail/appartement/a-vendre/2260/tongerlo/raw65225\n/fr/detail/maison/a-vendre/2620/hemiksem/raw65031\n/fr/detail/maison/a-vendre/2990/wuustwezel/raw63959\n/fr/detail/villa/a-vendre/3080/tervuren/raw62354\n/fr/detail/maison/a-vendre/8530/harelbeke/raw62256\n/fr/detail/maison-de-maitre/a-vendre/9300/alost/raw61933\n/fr/detail/maison/a-vendre/8610/handzame/raw60048\n/fr/detail/maison/a-vendre/8680/koekelare/raw60045\n/fr/detail/maison/a-vendre/8501/bissegem/raw60036\n/fr/detail/appartement/a-vendre/8890/dadizele/raw60035\n/fr/detail/maison/a-vendre/9700/audenarde/raw59956\n/fr/detail/appartement/a-vendre/9600/renaix/raw59914\n/fr/detail/maison/a-vendre/8630/houtem/raw59658\n/fr/detail/maison/a-vendre/2310/rijkevorsel/raw58467\n/fr/detail/maison/a-vendre/2530/boechout/raw57780\n/fr/detail/maison/a-vendre/5002/saint-servais/var50266\n/fr/detail/maison-de-rapport/a-vendre/6032/mont-sur-marchienne/var49824\n/fr/detail/maison/a-vendre/8500/courtrai/raw57254\n/fr/detail/appartement/a-vendre/1210/saint-josse-ten-noode/raw56919\n/fr/detail/maison/a-vendre/6220/wangenies/vwc95883\n/fr/detail/appartement/a-vendre/8370/blankenberge/raw56904\n/fr/detail/bureaux/a-vendre/3500/hasselt/raw56591\n/fr/detail/appartement/a-vendre/1180/uccle/var48930\n/fr/detail/maison/a-vendre/2660/hoboken/raw56011\n/fr/detail/maison/a-vendre/8800/roeselare/raw55944\n/fr/detail/terrain-a-batir/a-vendre/6180/courcelles/var59104\n/fr/detail/terrain-a-batir/a-vendre/6180/courcelles/var59104\n/fr/detail/terrain-a-batir/a-vendre/6180/courcelles/var59104\n/fr/detail/terrain-a-batir/a-vendre/6180/courcelles/var59104\n/fr/detail/terrain-a-batir/a-vendre/6180/courcelles/var59104\n/fr/detail/appartement/a-vendre/7170/la-hestre/var58606\n/fr/detail/appartement/a-vendre/7170/la-hestre/var58606\n/fr/detail/appartement/a-vendre/7170/la-hestre/var58606\n/fr/detail/appartement/a-vendre/7170/la-hestre/var58606\n/fr/detail/appartement/a-vendre/7170/la-hestre/var58606\n/fr/detail/maison/a-vendre/5190/ham-sur-sambre/var57536\n/fr/detail/maison/a-vendre/5190/ham-sur-sambre/var57536\n/fr/detail/maison/a-vendre/5190/ham-sur-sambre/var57536\n/fr/detail/maison/a-vendre/5190/ham-sur-sambre/var57536\n/fr/detail/maison/a-vendre/5190/ham-sur-sambre/var57536\n/fr/detail/maison/a-vendre/4400/flemalle/var57146\n/fr/detail/maison/a-vendre/4400/flemalle/var57146\n/fr/detail/maison/a-vendre/4400/flemalle/var57146\n/fr/detail/maison/a-vendre/4400/flemalle/var57146\n/fr/detail/maison/a-vendre/4400/flemalle/var57146\n/fr/detail/immeuble-mixte/a-vendre/7120/peissant/var57020\n/fr/detail/immeuble-mixte/a-vendre/7120/peissant/var57020\n/fr/detail/immeuble-mixte/a-vendre/7120/peissant/var57020\n/fr/detail/immeuble-mixte/a-vendre/7120/peissant/var57020\n/fr/detail/immeuble-mixte/a-vendre/7120/peissant/var57020\n/fr/detail/appartement/a-vendre/2260/tongerlo/raw65225\n/fr/detail/appartement/a-vendre/2260/tongerlo/raw65225\n/fr/detail/appartement/a-vendre/2260/tongerlo/raw65225\n/fr/detail/appartement/a-vendre/2260/tongerlo/raw65225\n/fr/detail/appartement/a-vendre/2260/tongerlo/raw65225\n/fr/detail/maison/a-vendre/2620/hemiksem/raw65031\n/fr/detail/maison/a-vendre/2620/hemiksem/raw65031\n/fr/detail/maison/a-vendre/2620/hemiksem/raw65031\n/fr/detail/maison/a-vendre/2620/hemiksem/raw65031\n/fr/detail/maison/a-vendre/2620/hemiksem/raw65031\n/fr/detail/maison/a-vendre/2990/wuustwezel/raw63959\n/fr/detail/maison/a-vendre/2990/wuustwezel/raw63959\n/fr/detail/maison/a-vendre/2990/wuustwezel/raw63959\n/fr/detail/maison/a-vendre/2990/wuustwezel/raw63959\n/fr/detail/maison/a-vendre/2990/wuustwezel/raw63959\n/fr/detail/villa/a-vendre/3080/tervuren/raw62354\n/fr/detail/villa/a-vendre/3080/tervuren/raw62354\n/fr/detail/villa/a-vendre/3080/tervuren/raw62354\n/fr/detail/villa/a-vendre/3080/tervuren/raw62354\n/fr/detail/villa/a-vendre/3080/tervuren/raw62354\n/fr/detail/maison/a-vendre/8530/harelbeke/raw62256\n/fr/detail/maison/a-vendre/8530/harelbeke/raw62256\n/fr/detail/maison/a-vendre/8530/harelbeke/raw62256\n/fr/detail/maison/a-vendre/8530/harelbeke/raw62256\n/fr/detail/maison/a-vendre/8530/harelbeke/raw62256\n/fr/detail/maison-de-maitre/a-vendre/9300/alost/raw61933\n/fr/detail/maison-de-maitre/a-vendre/9300/alost/raw61933\n/fr/detail/maison-de-maitre/a-vendre/9300/alost/raw61933\n/fr/detail/maison-de-maitre/a-vendre/9300/alost/raw61933\n/fr/detail/maison-de-maitre/a-vendre/9300/alost/raw61933\n/fr/detail/maison/a-vendre/8610/handzame/raw60048\n/fr/detail/maison/a-vendre/8610/handzame/raw60048\n/fr/detail/maison/a-vendre/8610/handzame/raw60048\n/fr/detail/maison/a-vendre/8610/handzame/raw60048\n/fr/detail/maison/a-vendre/8610/handzame/raw60048\n/fr/detail/maison/a-vendre/8680/koekelare/raw60045\n/fr/detail/maison/a-vendre/8680/koekelare/raw60045\n/fr/detail/maison/a-vendre/8680/koekelare/raw60045\n/fr/detail/maison/a-vendre/8680/koekelare/raw60045\n/fr/detail/maison/a-vendre/8680/koekelare/raw60045\n/fr/detail/maison/a-vendre/8501/bissegem/raw60036\n/fr/detail/maison/a-vendre/8501/bissegem/raw60036\n/fr/detail/maison/a-vendre/8501/bissegem/raw60036\n/fr/detail/maison/a-vendre/8501/bissegem/raw60036\n/fr/detail/maison/a-vendre/8501/bissegem/raw60036\n/fr/detail/appartement/a-vendre/8890/dadizele/raw60035\n/fr/detail/appartement/a-vendre/8890/dadizele/raw60035\n/fr/detail/appartement/a-vendre/8890/dadizele/raw60035\n/fr/detail/appartement/a-vendre/8890/dadizele/raw60035\n/fr/detail/appartement/a-vendre/8890/dadizele/raw60035\n/fr/detail/maison/a-vendre/9700/audenarde/raw59956\n/fr/detail/maison/a-vendre/9700/audenarde/raw59956\n/fr/detail/maison/a-vendre/9700/audenarde/raw59956\n/fr/detail/maison/a-vendre/9700/audenarde/raw59956\n/fr/detail/maison/a-vendre/9700/audenarde/raw59956\n/fr/detail/appartement/a-vendre/9600/renaix/raw59914\n/fr/detail/appartement/a-vendre/9600/renaix/raw59914\n/fr/detail/appartement/a-vendre/9600/renaix/raw59914\n/fr/detail/appartement/a-vendre/9600/renaix/raw59914\n/fr/detail/appartement/a-vendre/9600/renaix/raw59914\n/fr/detail/maison/a-vendre/8630/houtem/raw59658\n/fr/detail/maison/a-vendre/8630/houtem/raw59658\n/fr/detail/maison/a-vendre/8630/houtem/raw59658\n/fr/detail/maison/a-vendre/8630/houtem/raw59658\n/fr/detail/maison/a-vendre/8630/houtem/raw59658\n/fr/detail/maison/a-vendre/2310/rijkevorsel/raw58467\n/fr/detail/maison/a-vendre/2310/rijkevorsel/raw58467\n/fr/detail/maison/a-vendre/2310/rijkevorsel/raw58467\n/fr/detail/maison/a-vendre/2310/rijkevorsel/raw58467\n/fr/detail/maison/a-vendre/2310/rijkevorsel/raw58467\n/fr/detail/maison/a-vendre/2530/boechout/raw57780\n/fr/detail/maison/a-vendre/2530/boechout/raw57780\n/fr/detail/maison/a-vendre/2530/boechout/raw57780\n/fr/detail/maison/a-vendre/2530/boechout/raw57780\n/fr/detail/maison/a-vendre/2530/boechout/raw57780\n/fr/detail/maison/a-vendre/5002/saint-servais/var50266\n/fr/detail/maison/a-vendre/5002/saint-servais/var50266\n/fr/detail/maison/a-vendre/5002/saint-servais/var50266\n/fr/detail/maison/a-vendre/5002/saint-servais/var50266\n/fr/detail/maison/a-vendre/5002/saint-servais/var50266\n/fr/detail/maison-de-rapport/a-vendre/6032/mont-sur-marchienne/var49824\n/fr/detail/maison-de-rapport/a-vendre/6032/mont-sur-marchienne/var49824\n/fr/detail/maison-de-rapport/a-vendre/6032/mont-sur-marchienne/var49824\n/fr/detail/maison-de-rapport/a-vendre/6032/mont-sur-marchienne/var49824\n/fr/detail/maison-de-rapport/a-vendre/6032/mont-sur-marchienne/var49824\n/fr/detail/maison/a-vendre/8500/courtrai/raw57254\n/fr/detail/maison/a-vendre/8500/courtrai/raw57254\n/fr/detail/maison/a-vendre/8500/courtrai/raw57254\n/fr/detail/maison/a-vendre/8500/courtrai/raw57254\n/fr/detail/maison/a-vendre/8500/courtrai/raw57254\n/fr/detail/appartement/a-vendre/1210/saint-josse-ten-noode/raw56919\n/fr/detail/appartement/a-vendre/1210/saint-josse-ten-noode/raw56919\n/fr/detail/appartement/a-vendre/1210/saint-josse-ten-noode/raw56919\n/fr/detail/appartement/a-vendre/1210/saint-josse-ten-noode/raw56919\n/fr/detail/appartement/a-vendre/1210/saint-josse-ten-noode/raw56919\n/fr/detail/maison/a-vendre/6220/wangenies/vwc95883\n/fr/detail/maison/a-vendre/6220/wangenies/vwc95883\n/fr/detail/maison/a-vendre/6220/wangenies/vwc95883\n/fr/detail/maison/a-vendre/6220/wangenies/vwc95883\n/fr/detail/maison/a-vendre/6220/wangenies/vwc95883\n/fr/detail/appartement/a-vendre/8370/blankenberge/raw56904\n/fr/detail/appartement/a-vendre/8370/blankenberge/raw56904\n/fr/detail/appartement/a-vendre/8370/blankenberge/raw56904\n/fr/detail/appartement/a-vendre/8370/blankenberge/raw56904\n/fr/detail/appartement/a-vendre/8370/blankenberge/raw56904\n/fr/detail/bureaux/a-vendre/3500/hasselt/raw56591\n/fr/detail/bureaux/a-vendre/3500/hasselt/raw56591\n/fr/detail/bureaux/a-vendre/3500/hasselt/raw56591\n/fr/detail/bureaux/a-vendre/3500/hasselt/raw56591\n/fr/detail/bureaux/a-vendre/3500/hasselt/raw56591\n/fr/detail/appartement/a-vendre/1180/uccle/var48930\n/fr/detail/appartement/a-vendre/1180/uccle/var48930\n/fr/detail/appartement/a-vendre/1180/uccle/var48930\n/fr/detail/appartement/a-vendre/1180/uccle/var48930\n/fr/detail/appartement/a-vendre/1180/uccle/var48930\n/fr/detail/maison/a-vendre/2660/hoboken/raw56011\n/fr/detail/maison/a-vendre/2660/hoboken/raw56011\n/fr/detail/maison/a-vendre/2660/hoboken/raw56011\n/fr/detail/maison/a-vendre/2660/hoboken/raw56011\n/fr/detail/maison/a-vendre/2660/hoboken/raw56011\n/fr/detail/maison/a-vendre/8800/roeselare/raw55944\n/fr/detail/maison/a-vendre/8800/roeselare/raw55944\n/fr/detail/maison/a-vendre/8800/roeselare/raw55944\n/fr/detail/maison/a-vendre/8800/roeselare/raw55944\n/fr/detail/maison/a-vendre/8800/roeselare/raw55944\nhttps://play.google.com/store/apps/details?id=com.czaam\n"
     ]
    }
   ],
   "source": [
    "source_pages_url\n",
    "soup=BeautifulSoup(source_pages[1])\n",
    "for link in soup.find_all('a'):\n",
    "    detail_url = link.get('href')\n",
    "    if detail_url == None:\n",
    "        continue\n",
    "    elif 'detail' in detail_url:\n",
    "        print(detail_url)"
   ]
  },
  {
   "cell_type": "code",
   "execution_count": 45,
   "metadata": {},
   "outputs": [
    {
     "output_type": "error",
     "ename": "NameError",
     "evalue": "name 'html' is not defined",
     "traceback": [
      "\u001b[0;31m---------------------------------------------------------------------------\u001b[0m",
      "\u001b[0;31mNameError\u001b[0m                                 Traceback (most recent call last)",
      "\u001b[0;32m<ipython-input-45-0d1116ac94e9>\u001b[0m in \u001b[0;36m<module>\u001b[0;34m\u001b[0m\n\u001b[0;32m----> 1\u001b[0;31m \u001b[0mhtml\u001b[0m\u001b[0;34m/\u001b[0m\u001b[0mbody\u001b[0m\u001b[0;34m/\u001b[0m\u001b[0mdiv\u001b[0m\u001b[0;34m[\u001b[0m\u001b[0;36m2\u001b[0m\u001b[0;34m]\u001b[0m\u001b[0;34m/\u001b[0m\u001b[0mdiv\u001b[0m\u001b[0;34m[\u001b[0m\u001b[0;36m4\u001b[0m\u001b[0;34m]\u001b[0m\u001b[0;34m/\u001b[0m\u001b[0mdiv\u001b[0m\u001b[0;34m[\u001b[0m\u001b[0;36m2\u001b[0m\u001b[0;34m]\u001b[0m\u001b[0;34m/\u001b[0m\u001b[0mdiv\u001b[0m\u001b[0;34m/\u001b[0m\u001b[0mdiv\u001b[0m\u001b[0;34m[\u001b[0m\u001b[0;36m1\u001b[0m\u001b[0;34m]\u001b[0m\u001b[0;34m/\u001b[0m\u001b[0mdiv\u001b[0m\u001b[0;34m/\u001b[0m\u001b[0mdiv\u001b[0m\u001b[0;34m/\u001b[0m\u001b[0mdiv\u001b[0m\u001b[0;34m/\u001b[0m\u001b[0mdiv\u001b[0m\u001b[0;34m/\u001b[0m\u001b[0mdiv\u001b[0m\u001b[0;34m[\u001b[0m\u001b[0;36m2\u001b[0m\u001b[0;34m]\u001b[0m\u001b[0;34m/\u001b[0m\u001b[0mdiv\u001b[0m\u001b[0;34m[\u001b[0m\u001b[0;36m2\u001b[0m\u001b[0;34m]\u001b[0m\u001b[0;34m/\u001b[0m\u001b[0mdiv\u001b[0m\u001b[0;34m/\u001b[0m\u001b[0msection\u001b[0m\u001b[0;34m/\u001b[0m\u001b[0mdiv\u001b[0m\u001b[0;34m[\u001b[0m\u001b[0;36m3\u001b[0m\u001b[0;34m]\u001b[0m\u001b[0;34m/\u001b[0m\u001b[0mdiv\u001b[0m\u001b[0;34m[\u001b[0m\u001b[0;36m2\u001b[0m\u001b[0;34m]\u001b[0m\u001b[0;34m/\u001b[0m\u001b[0marticle\u001b[0m\u001b[0;34m/\u001b[0m\u001b[0mdiv\u001b[0m\u001b[0;34m/\u001b[0m\u001b[0mdiv\u001b[0m\u001b[0;34m/\u001b[0m\u001b[0mdiv\u001b[0m\u001b[0;34m[\u001b[0m\u001b[0;36m2\u001b[0m\u001b[0;34m]\u001b[0m\u001b[0;34m/\u001b[0m\u001b[0mdiv\u001b[0m\u001b[0;34m[\u001b[0m\u001b[0;36m1\u001b[0m\u001b[0;34m]\u001b[0m\u001b[0;34m/\u001b[0m\u001b[0mdiv\u001b[0m\u001b[0;34m[\u001b[0m\u001b[0;36m1\u001b[0m\u001b[0;34m]\u001b[0m\u001b[0;34m/\u001b[0m\u001b[0mdiv\u001b[0m\u001b[0;34m[\u001b[0m\u001b[0;36m2\u001b[0m\u001b[0;34m]\u001b[0m\u001b[0;34m/\u001b[0m\u001b[0mh2\u001b[0m\u001b[0;34m/\u001b[0m\u001b[0ma\u001b[0m\u001b[0;34m(\u001b[0m\u001b[0;34m)\u001b[0m\u001b[0;34m\u001b[0m\u001b[0;34m\u001b[0m\u001b[0m\n\u001b[0m",
      "\u001b[0;31mNameError\u001b[0m: name 'html' is not defined"
     ]
    }
   ],
   "source": [
    "<h2 itemprop=\"name\" title=\"Terrain  à vendre à Courcelles (VAR59104)\" class=\"card-title text-ellipsis mb-1 d-inline with-small-icon land\"><a href=\"/fr/detail/terrain-a-batir/a-vendre/6180/courcelles/var59104\" title=\"Terrain à bâtir à vendre\"><strong>Terrain à bâtir à vendre</strong></a></h2>\n",
    "\n",
    "<h2 itemprop=\"name\" title=\"Appartement  à vendre à La Hestre (VAR58606)\" class=\"card-title text-ellipsis mb-1 d-inline with-small-icon appartment\"><a href=\"/fr/detail/appartement/a-vendre/7170/la-hestre/var58606\" title=\"Appartement à vendre\"><strong>Appartement à vendre</strong></a></h2>\n",
    "\n",
    "<h2 itemprop=\"name\" title=\"Maison  à vendre à Ham-sur-Sambre (VAR57536)\" class=\"card-title text-ellipsis mb-1 d-inline with-small-icon house\"><a href=\"/fr/detail/maison/a-vendre/5190/ham-sur-sambre/var57536\" title=\"Maison à vendre\"><strong>Maison à vendre</strong></a></h2>"
   ]
  },
  {
   "cell_type": "code",
   "execution_count": 64,
   "metadata": {},
   "outputs": [
    {
     "output_type": "stream",
     "name": "stdout",
     "text": [
      "ready\n",
      "167\n",
      "27\n",
      "<ipython-input-64-e779408d4081>:55: DeprecationWarning: use driver.switch_to.window instead\n",
      "  driver.switch_to_window(driver.window_handles[1])\n",
      "<ipython-input-64-e779408d4081>:60: DeprecationWarning: use driver.switch_to.window instead\n",
      "  driver.switch_to_window(driver.window_handles[0])\n"
     ]
    },
    {
     "output_type": "error",
     "ename": "AttributeError",
     "evalue": "'NoneType' object has no attribute 'find'",
     "traceback": [
      "\u001b[0;31m---------------------------------------------------------------------------\u001b[0m",
      "\u001b[0;31mAttributeError\u001b[0m                            Traceback (most recent call last)",
      "\u001b[0;32m<ipython-input-62-7766119c9d72>\u001b[0m in \u001b[0;36madd_to_csv\u001b[0;34m(source_page)\u001b[0m\n\u001b[1;32m     31\u001b[0m     \u001b[0;32mtry\u001b[0m\u001b[0;34m:\u001b[0m\u001b[0;34m\u001b[0m\u001b[0;34m\u001b[0m\u001b[0m\n\u001b[0;32m---> 32\u001b[0;31m         \u001b[0msurface\u001b[0m \u001b[0;34m=\u001b[0m \u001b[0msoup\u001b[0m\u001b[0;34m.\u001b[0m\u001b[0mfind\u001b[0m\u001b[0;34m(\u001b[0m\u001b[0;34m\"div\"\u001b[0m\u001b[0;34m,\u001b[0m \u001b[0;34m{\u001b[0m\u001b[0;34m\"title\"\u001b[0m\u001b[0;34m:\u001b[0m \u001b[0;34m\"Surface habitable\"\u001b[0m\u001b[0;34m}\u001b[0m\u001b[0;34m)\u001b[0m\u001b[0;34m.\u001b[0m\u001b[0mfind\u001b[0m\u001b[0;34m(\u001b[0m\u001b[0;34m\"div\"\u001b[0m\u001b[0;34m,\u001b[0m \u001b[0;34m{\u001b[0m\u001b[0;34m\"class\"\u001b[0m\u001b[0;34m:\u001b[0m\u001b[0;34m\"fs-4\"\u001b[0m\u001b[0;34m}\u001b[0m\u001b[0;34m)\u001b[0m\u001b[0;34m.\u001b[0m\u001b[0mtext\u001b[0m\u001b[0;34m\u001b[0m\u001b[0;34m\u001b[0m\u001b[0m\n\u001b[0m\u001b[1;32m     33\u001b[0m     \u001b[0;32mexcept\u001b[0m\u001b[0;34m:\u001b[0m\u001b[0;34m\u001b[0m\u001b[0;34m\u001b[0m\u001b[0m\n",
      "\u001b[0;31mAttributeError\u001b[0m: 'NoneType' object has no attribute 'find'",
      "\nDuring handling of the above exception, another exception occurred:\n",
      "\u001b[0;31mAttributeError\u001b[0m                            Traceback (most recent call last)",
      "\u001b[0;32m<ipython-input-64-e779408d4081>\u001b[0m in \u001b[0;36m<module>\u001b[0;34m\u001b[0m\n\u001b[1;32m     57\u001b[0m         \u001b[0msource_pages_url\u001b[0m\u001b[0;34m.\u001b[0m\u001b[0mappend\u001b[0m\u001b[0;34m(\u001b[0m\u001b[0mdriver\u001b[0m\u001b[0;34m.\u001b[0m\u001b[0mcurrent_url\u001b[0m\u001b[0;34m)\u001b[0m\u001b[0;34m\u001b[0m\u001b[0;34m\u001b[0m\u001b[0m\n\u001b[1;32m     58\u001b[0m         \u001b[0mdriver\u001b[0m\u001b[0;34m.\u001b[0m\u001b[0mclose\u001b[0m\u001b[0;34m(\u001b[0m\u001b[0;34m)\u001b[0m\u001b[0;34m\u001b[0m\u001b[0;34m\u001b[0m\u001b[0m\n\u001b[0;32m---> 59\u001b[0;31m         \u001b[0madd_to_csv\u001b[0m\u001b[0;34m(\u001b[0m\u001b[0msource_pages\u001b[0m\u001b[0;34m[\u001b[0m\u001b[0;34m-\u001b[0m\u001b[0;36m1\u001b[0m\u001b[0;34m]\u001b[0m\u001b[0;34m)\u001b[0m\u001b[0;34m\u001b[0m\u001b[0;34m\u001b[0m\u001b[0m\n\u001b[0m\u001b[1;32m     60\u001b[0m         \u001b[0mdriver\u001b[0m\u001b[0;34m.\u001b[0m\u001b[0mswitch_to_window\u001b[0m\u001b[0;34m(\u001b[0m\u001b[0mdriver\u001b[0m\u001b[0;34m.\u001b[0m\u001b[0mwindow_handles\u001b[0m\u001b[0;34m[\u001b[0m\u001b[0;36m0\u001b[0m\u001b[0;34m]\u001b[0m\u001b[0;34m)\u001b[0m\u001b[0;34m\u001b[0m\u001b[0;34m\u001b[0m\u001b[0m\n\u001b[1;32m     61\u001b[0m     \u001b[0mtime\u001b[0m\u001b[0;34m.\u001b[0m\u001b[0msleep\u001b[0m\u001b[0;34m(\u001b[0m\u001b[0;36m5\u001b[0m\u001b[0;34m)\u001b[0m\u001b[0;34m\u001b[0m\u001b[0;34m\u001b[0m\u001b[0m\n",
      "\u001b[0;32m<ipython-input-62-7766119c9d72>\u001b[0m in \u001b[0;36madd_to_csv\u001b[0;34m(source_page)\u001b[0m\n\u001b[1;32m     32\u001b[0m         \u001b[0msurface\u001b[0m \u001b[0;34m=\u001b[0m \u001b[0msoup\u001b[0m\u001b[0;34m.\u001b[0m\u001b[0mfind\u001b[0m\u001b[0;34m(\u001b[0m\u001b[0;34m\"div\"\u001b[0m\u001b[0;34m,\u001b[0m \u001b[0;34m{\u001b[0m\u001b[0;34m\"title\"\u001b[0m\u001b[0;34m:\u001b[0m \u001b[0;34m\"Surface habitable\"\u001b[0m\u001b[0;34m}\u001b[0m\u001b[0;34m)\u001b[0m\u001b[0;34m.\u001b[0m\u001b[0mfind\u001b[0m\u001b[0;34m(\u001b[0m\u001b[0;34m\"div\"\u001b[0m\u001b[0;34m,\u001b[0m \u001b[0;34m{\u001b[0m\u001b[0;34m\"class\"\u001b[0m\u001b[0;34m:\u001b[0m\u001b[0;34m\"fs-4\"\u001b[0m\u001b[0;34m}\u001b[0m\u001b[0;34m)\u001b[0m\u001b[0;34m.\u001b[0m\u001b[0mtext\u001b[0m\u001b[0;34m\u001b[0m\u001b[0;34m\u001b[0m\u001b[0m\n\u001b[1;32m     33\u001b[0m     \u001b[0;32mexcept\u001b[0m\u001b[0;34m:\u001b[0m\u001b[0;34m\u001b[0m\u001b[0;34m\u001b[0m\u001b[0m\n\u001b[0;32m---> 34\u001b[0;31m         \u001b[0msurface\u001b[0m \u001b[0;34m=\u001b[0m \u001b[0msoup\u001b[0m\u001b[0;34m.\u001b[0m\u001b[0mfind\u001b[0m\u001b[0;34m(\u001b[0m\u001b[0;34m\"div\"\u001b[0m\u001b[0;34m,\u001b[0m \u001b[0;34m{\u001b[0m\u001b[0;34m\"title\"\u001b[0m\u001b[0;34m:\u001b[0m \u001b[0;34m\"Surface habitable\"\u001b[0m\u001b[0;34m}\u001b[0m\u001b[0;34m)\u001b[0m\u001b[0;34m.\u001b[0m\u001b[0mfind\u001b[0m\u001b[0;34m(\u001b[0m\u001b[0;34m\"div\"\u001b[0m\u001b[0;34m,\u001b[0m \u001b[0;34m{\u001b[0m\u001b[0;34m\"class\"\u001b[0m\u001b[0;34m:\u001b[0m\u001b[0;34m\"fs-4\"\u001b[0m\u001b[0;34m}\u001b[0m\u001b[0;34m)\u001b[0m\u001b[0;34m.\u001b[0m\u001b[0mtext\u001b[0m\u001b[0;34m\u001b[0m\u001b[0;34m\u001b[0m\u001b[0m\n\u001b[0m\u001b[1;32m     35\u001b[0m         \u001b[0madid\u001b[0m\u001b[0;34m=\u001b[0m\u001b[0;34m\"\"\u001b[0m\u001b[0;34m\u001b[0m\u001b[0;34m\u001b[0m\u001b[0m\n\u001b[1;32m     36\u001b[0m     \u001b[0;32mwith\u001b[0m \u001b[0mopen\u001b[0m\u001b[0;34m(\u001b[0m\u001b[0;34m'house_data.csv'\u001b[0m\u001b[0;34m,\u001b[0m \u001b[0;34m'a'\u001b[0m\u001b[0;34m)\u001b[0m \u001b[0;32mas\u001b[0m \u001b[0mfile\u001b[0m\u001b[0;34m:\u001b[0m\u001b[0;34m\u001b[0m\u001b[0;34m\u001b[0m\u001b[0m\n",
      "\u001b[0;31mAttributeError\u001b[0m: 'NoneType' object has no attribute 'find'"
     ]
    }
   ],
   "source": [
    "from selenium import webdriver\n",
    "from selenium.webdriver.support.ui import WebDriverWait\n",
    "from selenium.webdriver.support import expected_conditions as EC\n",
    "from selenium.common.exceptions import TimeoutException\n",
    "from selenium.webdriver.common.by import By\n",
    "from selenium.webdriver import ActionChains \n",
    "from selenium.webdriver.common.keys import Keys\n",
    "import time\n",
    "from bs4 import BeautifulSoup\n",
    "\n",
    "\n",
    "url='https://immo.vlan.be/fr'\n",
    "print('ready')\n",
    "source_pages = []  # contains the html\n",
    "source_pages_url = []\n",
    "driver = webdriver.Chrome()\n",
    "driver.implicitly_wait(10)\n",
    "driver.get(url)\n",
    "time.sleep(7)\n",
    " #try:\n",
    "    ##elem = driver.find_element_by_xpath(\"//input[@placeholder='Où ? Ville, Code Postal, Province ou Région.']\")\n",
    "     #elemn = WebDriverWait(driver, 1000).until(\n",
    "     #   EC.presence_of_all_elements_located((By.XPATH, \"//input[@placeholder='Où ? Ville, Code Postal, Province ou Région.']\")))\n",
    "#except:\n",
    "     #print('error')\n",
    "elem = driver.find_element_by_xpath(\"//input[@placeholder='Où ? Ville, Code Postal, Province ou Région.']\")\n",
    "elem.clear()\n",
    "elem.send_keys(\"8000\")\n",
    "elem.send_keys(Keys.RETURN)\n",
    "time.sleep(7)\n",
    "my_soup=BeautifulSoup(driver.page_source)\n",
    "links = my_soup.find_all('a', attrs = {'rel':'nofollow'})\n",
    "last = 0\n",
    "for i in range(len(links)):\n",
    "    if links[i].get('title') == 'suivant':\n",
    "        last = int(links[i-1].get_text())\n",
    "print(last)\n",
    "for i in range(last):\n",
    "    xpath_flat = \"//h2[@class='card-title text-ellipsis mb-1 d-inline with-small-icon appartment']\"\n",
    "    xpath_house = \"//h2[@class='card-title text-ellipsis mb-1 d-inline with-small-icon house']\"\n",
    "    elements_house = driver.find_elements_by_xpath(xpath_house)\n",
    "    elements_flat = driver.find_elements_by_xpath(xpath_flat)\n",
    "    \n",
    "    elements = elements_flat + elements_house\n",
    "\n",
    "    print(len(elements))\n",
    "    for i in range(len(elements)):\n",
    "        elem = elements[i]\n",
    "        actions = ActionChains(driver)\n",
    "        actions.move_to_element(elem)\n",
    "        actions.key_down(Keys.LEFT_CONTROL)\n",
    "        actions.click(elem)\n",
    "        actions.perform()\n",
    "        time.sleep(3)\n",
    "        driver.switch_to_window(driver.window_handles[1])\n",
    "        source_pages.append(driver.page_source)\n",
    "        source_pages_url.append(driver.current_url)\n",
    "        driver.close()\n",
    "        add_to_csv(source_pages[-1])\n",
    "        driver.switch_to_window(driver.window_handles[0])\n",
    "    time.sleep(5)\n",
    "    elem = driver.find_element_by_xpath(\"//i[@class='fa fa-angle-right']\")\n",
    "    actions = ActionChains(driver)\n",
    "    actions.click(elem)\n",
    "    actions.perform()\n",
    "    time.sleep(5)\n",
    "    elem = driver.find_element_by_xpath(\"//i[@class='fa fa-angle-right']\")\n",
    "    actions = ActionChains(driver)\n",
    "    actions.click(elem)\n",
    "    actions.perform()\n",
    "    time.sleep(5)\n",
    "\n",
    "driver.close()"
   ]
  },
  {
   "cell_type": "code",
   "execution_count": 25,
   "metadata": {},
   "outputs": [
    {
     "output_type": "stream",
     "name": "stdout",
     "text": [
      "3\n3\n['https://immo.vlan.be/fr/detail/appartement/a-vendre/7170/la-hestre/var58606', 'https://immo.vlan.be/fr/detail/appartement/a-vendre/2260/tongerlo/raw65225', 'https://immo.vlan.be/fr/detail/appartement/a-vendre/8890/dadizele/raw60035']\n"
     ]
    }
   ],
   "source": [
    "print(len(source_pages))\n",
    "print(len(source_pages_url))\n",
    "print(source_pages_url)"
   ]
  },
  {
   "cell_type": "code",
   "execution_count": 15,
   "metadata": {},
   "outputs": [
    {
     "output_type": "stream",
     "name": "stdout",
     "text": [
      "167\n"
     ]
    }
   ],
   "source": [
    "limit = soup.find_all('a', attrs = {'rel':'nofollow'})\n",
    "for i in range(len(limit)):\n",
    "    if limit[i].get('title') == 'suivant':\n",
    "        last = int(limit[i-1].get_text())\n",
    "print(last)\n"
   ]
  },
  {
   "cell_type": "code",
   "execution_count": 50,
   "metadata": {},
   "outputs": [
    {
     "output_type": "stream",
     "name": "stdout",
     "text": [
      "ready\n",
      "167\n",
      "27\n",
      "<ipython-input-50-84a7a0df9ac1>:55: DeprecationWarning: use driver.switch_to.window instead\n",
      "  driver.switch_to_window(driver.window_handles[1])\n"
     ]
    },
    {
     "output_type": "error",
     "ename": "TimeoutException",
     "evalue": "Message: \n",
     "traceback": [
      "\u001b[0;31m---------------------------------------------------------------------------\u001b[0m",
      "\u001b[0;31mTimeoutException\u001b[0m                          Traceback (most recent call last)",
      "\u001b[0;32m<ipython-input-50-84a7a0df9ac1>\u001b[0m in \u001b[0;36m<module>\u001b[0;34m\u001b[0m\n\u001b[1;32m     56\u001b[0m             \u001b[0msource_pages\u001b[0m\u001b[0;34m.\u001b[0m\u001b[0mappend\u001b[0m\u001b[0;34m(\u001b[0m\u001b[0mdriver\u001b[0m\u001b[0;34m.\u001b[0m\u001b[0mpage_source\u001b[0m\u001b[0;34m)\u001b[0m\u001b[0;34m\u001b[0m\u001b[0;34m\u001b[0m\u001b[0m\n\u001b[1;32m     57\u001b[0m             \u001b[0msource_pages_url\u001b[0m\u001b[0;34m.\u001b[0m\u001b[0mappend\u001b[0m\u001b[0;34m(\u001b[0m\u001b[0mdriver\u001b[0m\u001b[0;34m.\u001b[0m\u001b[0mcurrent_url\u001b[0m\u001b[0;34m)\u001b[0m\u001b[0;34m\u001b[0m\u001b[0;34m\u001b[0m\u001b[0m\n\u001b[0;32m---> 58\u001b[0;31m             \u001b[0mdriver\u001b[0m\u001b[0;34m.\u001b[0m\u001b[0mclose\u001b[0m\u001b[0;34m(\u001b[0m\u001b[0;34m)\u001b[0m\u001b[0;34m\u001b[0m\u001b[0;34m\u001b[0m\u001b[0m\n\u001b[0m\u001b[1;32m     59\u001b[0m         \u001b[0mdriver\u001b[0m\u001b[0;34m.\u001b[0m\u001b[0mswitch_to_window\u001b[0m\u001b[0;34m(\u001b[0m\u001b[0mdriver\u001b[0m\u001b[0;34m.\u001b[0m\u001b[0mwindow_handles\u001b[0m\u001b[0;34m[\u001b[0m\u001b[0;36m0\u001b[0m\u001b[0;34m]\u001b[0m\u001b[0;34m)\u001b[0m\u001b[0;34m\u001b[0m\u001b[0;34m\u001b[0m\u001b[0m\n\u001b[1;32m     60\u001b[0m     \u001b[0mtime\u001b[0m\u001b[0;34m.\u001b[0m\u001b[0msleep\u001b[0m\u001b[0;34m(\u001b[0m\u001b[0;36m5\u001b[0m\u001b[0;34m)\u001b[0m\u001b[0;34m\u001b[0m\u001b[0;34m\u001b[0m\u001b[0m\n",
      "\u001b[0;32m~/anaconda3/lib/python3.8/contextlib.py\u001b[0m in \u001b[0;36m__exit__\u001b[0;34m(self, type, value, traceback)\u001b[0m\n\u001b[1;32m    118\u001b[0m         \u001b[0;32mif\u001b[0m \u001b[0mtype\u001b[0m \u001b[0;32mis\u001b[0m \u001b[0;32mNone\u001b[0m\u001b[0;34m:\u001b[0m\u001b[0;34m\u001b[0m\u001b[0;34m\u001b[0m\u001b[0m\n\u001b[1;32m    119\u001b[0m             \u001b[0;32mtry\u001b[0m\u001b[0;34m:\u001b[0m\u001b[0;34m\u001b[0m\u001b[0;34m\u001b[0m\u001b[0m\n\u001b[0;32m--> 120\u001b[0;31m                 \u001b[0mnext\u001b[0m\u001b[0;34m(\u001b[0m\u001b[0mself\u001b[0m\u001b[0;34m.\u001b[0m\u001b[0mgen\u001b[0m\u001b[0;34m)\u001b[0m\u001b[0;34m\u001b[0m\u001b[0;34m\u001b[0m\u001b[0m\n\u001b[0m\u001b[1;32m    121\u001b[0m             \u001b[0;32mexcept\u001b[0m \u001b[0mStopIteration\u001b[0m\u001b[0;34m:\u001b[0m\u001b[0;34m\u001b[0m\u001b[0;34m\u001b[0m\u001b[0m\n\u001b[1;32m    122\u001b[0m                 \u001b[0;32mreturn\u001b[0m \u001b[0;32mFalse\u001b[0m\u001b[0;34m\u001b[0m\u001b[0;34m\u001b[0m\u001b[0m\n",
      "\u001b[0;32m<ipython-input-35-613391d343d8>\u001b[0m in \u001b[0;36mwait_for_new_window\u001b[0;34m(driver, timeout)\u001b[0m\n\u001b[1;32m      3\u001b[0m     \u001b[0mhandles_before\u001b[0m \u001b[0;34m=\u001b[0m \u001b[0mdriver\u001b[0m\u001b[0;34m.\u001b[0m\u001b[0mwindow_handles\u001b[0m\u001b[0;34m\u001b[0m\u001b[0;34m\u001b[0m\u001b[0m\n\u001b[1;32m      4\u001b[0m     \u001b[0;32myield\u001b[0m\u001b[0;34m\u001b[0m\u001b[0;34m\u001b[0m\u001b[0m\n\u001b[0;32m----> 5\u001b[0;31m     WebDriverWait(driver, timeout).until(\n\u001b[0m\u001b[1;32m      6\u001b[0m         lambda driver: len(handles_before) != len(driver.window_handles))\n",
      "\u001b[0;32m~/anaconda3/lib/python3.8/site-packages/selenium/webdriver/support/wait.py\u001b[0m in \u001b[0;36muntil\u001b[0;34m(self, method, message)\u001b[0m\n\u001b[1;32m     78\u001b[0m             \u001b[0;32mif\u001b[0m \u001b[0mtime\u001b[0m\u001b[0;34m.\u001b[0m\u001b[0mtime\u001b[0m\u001b[0;34m(\u001b[0m\u001b[0;34m)\u001b[0m \u001b[0;34m>\u001b[0m \u001b[0mend_time\u001b[0m\u001b[0;34m:\u001b[0m\u001b[0;34m\u001b[0m\u001b[0;34m\u001b[0m\u001b[0m\n\u001b[1;32m     79\u001b[0m                 \u001b[0;32mbreak\u001b[0m\u001b[0;34m\u001b[0m\u001b[0;34m\u001b[0m\u001b[0m\n\u001b[0;32m---> 80\u001b[0;31m         \u001b[0;32mraise\u001b[0m \u001b[0mTimeoutException\u001b[0m\u001b[0;34m(\u001b[0m\u001b[0mmessage\u001b[0m\u001b[0;34m,\u001b[0m \u001b[0mscreen\u001b[0m\u001b[0;34m,\u001b[0m \u001b[0mstacktrace\u001b[0m\u001b[0;34m)\u001b[0m\u001b[0;34m\u001b[0m\u001b[0;34m\u001b[0m\u001b[0m\n\u001b[0m\u001b[1;32m     81\u001b[0m \u001b[0;34m\u001b[0m\u001b[0m\n\u001b[1;32m     82\u001b[0m     \u001b[0;32mdef\u001b[0m \u001b[0muntil_not\u001b[0m\u001b[0;34m(\u001b[0m\u001b[0mself\u001b[0m\u001b[0;34m,\u001b[0m \u001b[0mmethod\u001b[0m\u001b[0;34m,\u001b[0m \u001b[0mmessage\u001b[0m\u001b[0;34m=\u001b[0m\u001b[0;34m''\u001b[0m\u001b[0;34m)\u001b[0m\u001b[0;34m:\u001b[0m\u001b[0;34m\u001b[0m\u001b[0;34m\u001b[0m\u001b[0m\n",
      "\u001b[0;31mTimeoutException\u001b[0m: Message: \n"
     ]
    }
   ],
   "source": [
    "from selenium import webdriver\n",
    "from selenium.webdriver.support.ui import WebDriverWait\n",
    "from selenium.webdriver.support import expected_conditions as EC\n",
    "from selenium.common.exceptions import TimeoutException\n",
    "from selenium.webdriver.common.by import By\n",
    "from selenium.webdriver import ActionChains \n",
    "from selenium.webdriver.common.keys import Keys\n",
    "import time\n",
    "from bs4 import BeautifulSoup\n",
    "from contextlib import contextmanager\n",
    "\n",
    "\n",
    "url='https://immo.vlan.be/fr'\n",
    "print('ready')\n",
    "source_pages = []  # contains the html\n",
    "source_pages_url = []\n",
    "driver = webdriver.Chrome()\n",
    "driver.implicitly_wait(10)\n",
    "driver.get(url)\n",
    "time.sleep(7)\n",
    "elem = driver.find_element_by_xpath(\"//input[@placeholder='Où ? Ville, Code Postal, Province ou Région.']\")\n",
    "elem.clear()\n",
    "elem.send_keys(\"8000\")\n",
    "elem.send_keys(Keys.RETURN)\n",
    "time.sleep(7)\n",
    "my_soup=BeautifulSoup(driver.page_source)\n",
    "links = my_soup.find_all('a', attrs = {'rel':'nofollow'})\n",
    "last = 0\n",
    "for i in range(len(links)):\n",
    "    if links[i].get('title') == 'suivant':\n",
    "        last = int(links[i-1].get_text())\n",
    "print(last)\n",
    "last = 2 #to be removed\n",
    "for i in range(last):\n",
    "    xpath_flat = \"//h2[@class='card-title text-ellipsis mb-1 d-inline with-small-icon appartment']\"\n",
    "    xpath_house = \"//h2[@class='card-title text-ellipsis mb-1 d-inline with-small-icon house']\"\n",
    "    try:\n",
    "        elements_flat = WebDriverWait(driver, 10).until(\n",
    "        EC.presence_of_all_elements_located((By.XPATH, xpath_flat)))\n",
    "        elements_house = WebDriverWait(driver, 10).until(\n",
    "        EC.presence_of_all_elements_located((By.XPATH, xpath_house)))\n",
    "        elements = elements_flat + elements_house\n",
    "    except:\n",
    "        print('could not find flat or house. Stop at page ', i)\n",
    "\n",
    "    print(len(elements))\n",
    "    for i in range(2): #range(len(elements)): te be change\n",
    "        elem = elements[i]\n",
    "        actions = ActionChains(driver)\n",
    "        actions.move_to_element(elem)\n",
    "        actions.key_down(Keys.LEFT_CONTROL)\n",
    "        actions.click(elem)\n",
    "        with wait_for_new_window(driver):\n",
    "            actions.perform()\n",
    "            driver.switch_to_window(driver.window_handles[1])\n",
    "            source_pages.append(driver.page_source)\n",
    "            source_pages_url.append(driver.current_url)\n",
    "            driver.close()\n",
    "        driver.switch_to_window(driver.window_handles[0])\n",
    "    time.sleep(5)\n",
    "    elem = driver.find_element_by_xpath(\"//i[@class='fa fa-angle-right']\")\n",
    "    actions = ActionChains(driver)\n",
    "    actions.click(elem)\n",
    "    actions.perform()\n",
    "    time.sleep(5)\n",
    "    elem = driver.find_element_by_xpath(\"//i[@class='fa fa-angle-right']\")\n",
    "    actions = ActionChains(driver)\n",
    "    actions.click(elem)\n",
    "    actions.perform()\n",
    "    time.sleep(5)\n",
    "\n",
    "driver.close()\n",
    "\n"
   ]
  },
  {
   "cell_type": "code",
   "execution_count": 35,
   "metadata": {},
   "outputs": [],
   "source": [
    "@contextmanager\n",
    "def wait_for_new_window(driver, timeout=10):\n",
    "    handles_before = driver.window_handles\n",
    "    yield\n",
    "    WebDriverWait(driver, timeout).until(\n",
    "        lambda driver: len(handles_before) != len(driver.window_handles))"
   ]
  },
  {
   "cell_type": "code",
   "execution_count": 62,
   "metadata": {},
   "outputs": [],
   "source": [
    "def add_to_csv(source_page):\n",
    "    soup = BeautifulSoup(source_page, 'lxml')\n",
    "    try:\n",
    "        adid = soup.find(\"meta\", {\"name\": \"cXenseParse:rob-immo-property-adid\"}).get(\"content\")\n",
    "    except:\n",
    "        adid=\"\"\n",
    "    try:\n",
    "        bedrooms = soup.find(\"meta\", {\"name\": \"cXenseParse:rob-immo-property-bedrooms\"}).get(\"content\")\n",
    "    except:\n",
    "        bedrooms=\"\"\n",
    "    try:\n",
    "        city = soup.find(\"meta\", {\"name\": \"cXenseParse:rob-immo-property-city\"}).get(\"content\")\n",
    "    except:\n",
    "        city=\"\"\n",
    "    try:\n",
    "        price = soup.find(\"meta\", {\"name\": \"cXenseParse:rob-immo-property-price\"}).get(\"content\")\n",
    "    except:\n",
    "        price=\"\"\n",
    "    try:\n",
    "        transaction_type = soup.find(\"meta\", {\"name\": \"cXenseParse:rob-immo-transaction-type\"}).get(\"content\")\n",
    "    except:\n",
    "        transaction_type=\"\"\n",
    "    try:\n",
    "        subtype = soup.find(\"meta\", {\"name\": \"cXenseParse:rob-immo-property-subtype\"}).get(\"content\")\n",
    "    except:\n",
    "        subtype=\"\"\n",
    "    try:\n",
    "        zipcode = soup.find(\"meta\", {\"name\": \"cXenseParse:rob-immo-property-zipcode\"}).get(\"content\")\n",
    "    except:\n",
    "        zipcode=\"\"\n",
    "    try:    \n",
    "        surface = soup.find(\"div\", {\"title\": \"Surface habitable\"}).find(\"div\", {\"class\":\"fs-4\"}).text\n",
    "    except:\n",
    "        surface = soup.find(\"div\", {\"title\": \"Surface habitable\"}).find(\"div\", {\"class\":\"fs-4\"}).text\n",
    "        adid=\"\"\n",
    "    with open('house_data.csv', 'a') as file:\n",
    "        string_to_add =adid+','+bedrooms+','+city+','+price+','+transaction_type+','+subtype+','+zipcode+','+surface+',,' ##removed adresses because error\n",
    "        file.write(string_to_add+'\\n')\n"
   ]
  },
  {
   "cell_type": "code",
   "execution_count": 58,
   "metadata": {},
   "outputs": [],
   "source": [
    "with open('house_data.csv', 'a') as file:\n",
    "    file.write(\"id,chambres, city,price,transaction_type,sous-type,code-postal,surface,,\\n\")"
   ]
  },
  {
   "cell_type": "code",
   "execution_count": null,
   "metadata": {},
   "outputs": [],
   "source": []
  }
 ],
 "metadata": {
  "kernelspec": {
   "name": "python385jvsc74a57bd09977e029b2da6177bb9bc7be3b4cc732c21fce726b7c7753acdf2f8f3db06ed7",
   "display_name": "Python 3.8.5 64-bit ('base': conda)"
  },
  "language_info": {
   "codemirror_mode": {
    "name": "ipython",
    "version": 3
   },
   "file_extension": ".py",
   "mimetype": "text/x-python",
   "name": "python",
   "nbconvert_exporter": "python",
   "pygments_lexer": "ipython3",
   "version": "3.8.5"
  },
  "metadata": {
   "interpreter": {
    "hash": "9977e029b2da6177bb9bc7be3b4cc732c21fce726b7c7753acdf2f8f3db06ed7"
   }
  }
 },
 "nbformat": 4,
 "nbformat_minor": 2
}